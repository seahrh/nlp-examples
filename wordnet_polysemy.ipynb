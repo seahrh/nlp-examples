{
 "cells": [
  {
   "cell_type": "code",
   "execution_count": 1,
   "id": "c64058fa",
   "metadata": {},
   "outputs": [],
   "source": [
    "import nltk\n",
    "from nltk.corpus import wordnet as wn\n",
    "from nltk.wsd import lesk\n",
    "from typing import NamedTuple, Set, List, Dict"
   ]
  },
  {
   "cell_type": "code",
   "execution_count": 2,
   "id": "85006b7d",
   "metadata": {},
   "outputs": [
    {
     "name": "stderr",
     "output_type": "stream",
     "text": [
      "[nltk_data] Downloading package wordnet to /home/pankun/nltk_data...\n",
      "[nltk_data]   Unzipping corpora/wordnet.zip.\n",
      "[nltk_data] Downloading package averaged_perceptron_tagger to\n",
      "[nltk_data]     /home/pankun/nltk_data...\n",
      "[nltk_data]   Unzipping taggers/averaged_perceptron_tagger.zip.\n"
     ]
    },
    {
     "data": {
      "text/plain": [
       "['/home/pankun/nltk_data',\n",
       " '/mnt/s/dev/seahrh/nlp-examples/venv/nltk_data',\n",
       " '/mnt/s/dev/seahrh/nlp-examples/venv/share/nltk_data',\n",
       " '/mnt/s/dev/seahrh/nlp-examples/venv/lib/nltk_data',\n",
       " '/usr/share/nltk_data',\n",
       " '/usr/local/share/nltk_data',\n",
       " '/usr/lib/nltk_data',\n",
       " '/usr/local/lib/nltk_data']"
      ]
     },
     "execution_count": 2,
     "metadata": {},
     "output_type": "execute_result"
    }
   ],
   "source": [
    "import ssl\n",
    "\n",
    "try:\n",
    "    _create_unverified_https_context = ssl._create_unverified_context\n",
    "except AttributeError:\n",
    "    pass\n",
    "else:\n",
    "    ssl._create_default_https_context = _create_unverified_https_context\n",
    "\n",
    "nltk.download('wordnet')\n",
    "#[nltk_data] Downloading package wordnet to /Users/ruhong/nltk_data...\n",
    "#[nltk_data]   Unzipping corpora/wordnet.zip.\n",
    "nltk.download('averaged_perceptron_tagger') # for pos tagging\n",
    "nltk.data.path"
   ]
  },
  {
   "cell_type": "code",
   "execution_count": 3,
   "id": "f62ae7a5",
   "metadata": {},
   "outputs": [
    {
     "data": {
      "text/plain": [
       "[Synset('car.n.01')]"
      ]
     },
     "execution_count": 3,
     "metadata": {},
     "output_type": "execute_result"
    }
   ],
   "source": [
    "wn.synsets(\"motorcar\")"
   ]
  },
  {
   "cell_type": "code",
   "execution_count": 4,
   "id": "5adae20c",
   "metadata": {},
   "outputs": [
    {
     "data": {
      "text/plain": [
       "['car', 'auto', 'automobile', 'machine', 'motorcar']"
      ]
     },
     "execution_count": 4,
     "metadata": {},
     "output_type": "execute_result"
    }
   ],
   "source": [
    "wn.synset(\"car.n.01\").lemma_names()"
   ]
  },
  {
   "cell_type": "code",
   "execution_count": 5,
   "id": "2d76cd88",
   "metadata": {},
   "outputs": [
    {
     "data": {
      "text/plain": [
       "'a motor vehicle with four wheels; usually propelled by an internal combustion engine'"
      ]
     },
     "execution_count": 5,
     "metadata": {},
     "output_type": "execute_result"
    }
   ],
   "source": [
    "wn.synset(\"car.n.01\").definition()"
   ]
  },
  {
   "cell_type": "code",
   "execution_count": 6,
   "id": "389578e9",
   "metadata": {},
   "outputs": [
    {
     "name": "stdout",
     "output_type": "stream",
     "text": [
      "car.n.01\n",
      "\ta motor vehicle with four wheels; usually propelled by an internal combustion engine\n",
      "\tlemmas=['car', 'auto', 'automobile', 'machine', 'motorcar']\n",
      "car.n.02\n",
      "\ta wheeled vehicle adapted to the rails of railroad\n",
      "\tlemmas=['car', 'railcar', 'railway_car', 'railroad_car']\n",
      "car.n.03\n",
      "\tthe compartment that is suspended from an airship and that carries personnel and the cargo and the power plant\n",
      "\tlemmas=['car', 'gondola']\n",
      "car.n.04\n",
      "\twhere passengers ride up and down\n",
      "\tlemmas=['car', 'elevator_car']\n",
      "cable_car.n.01\n",
      "\ta conveyance for passengers or freight on a cable railway\n",
      "\tlemmas=['cable_car', 'car']\n"
     ]
    }
   ],
   "source": [
    "for synset in wn.synsets(\"car\"):\n",
    "    print(f\"{synset.name()}\\n\\t{synset.definition()}\\n\\tlemmas={synset.lemma_names()}\")"
   ]
  },
  {
   "cell_type": "code",
   "execution_count": 7,
   "id": "4004c883",
   "metadata": {},
   "outputs": [
    {
     "name": "stdout",
     "output_type": "stream",
     "text": [
      "bank.n.01\n",
      "\tsloping land (especially the slope beside a body of water)\n",
      "\tlemmas=['bank']\n",
      "depository_financial_institution.n.01\n",
      "\ta financial institution that accepts deposits and channels the money into lending activities\n",
      "\tlemmas=['depository_financial_institution', 'bank', 'banking_concern', 'banking_company']\n",
      "bank.n.03\n",
      "\ta long ridge or pile\n",
      "\tlemmas=['bank']\n",
      "bank.n.04\n",
      "\tan arrangement of similar objects in a row or in tiers\n",
      "\tlemmas=['bank']\n",
      "bank.n.05\n",
      "\ta supply or stock held in reserve for future use (especially in emergencies)\n",
      "\tlemmas=['bank']\n",
      "bank.n.06\n",
      "\tthe funds held by a gambling house or the dealer in some gambling games\n",
      "\tlemmas=['bank']\n",
      "bank.n.07\n",
      "\ta slope in the turn of a road or track; the outside is higher than the inside in order to reduce the effects of centrifugal force\n",
      "\tlemmas=['bank', 'cant', 'camber']\n",
      "savings_bank.n.02\n",
      "\ta container (usually with a slot in the top) for keeping money at home\n",
      "\tlemmas=['savings_bank', 'coin_bank', 'money_box', 'bank']\n",
      "bank.n.09\n",
      "\ta building in which the business of banking transacted\n",
      "\tlemmas=['bank', 'bank_building']\n",
      "bank.n.10\n",
      "\ta flight maneuver; aircraft tips laterally about its longitudinal axis (especially in turning)\n",
      "\tlemmas=['bank']\n",
      "bank.v.01\n",
      "\ttip laterally\n",
      "\tlemmas=['bank']\n",
      "bank.v.02\n",
      "\tenclose with a bank\n",
      "\tlemmas=['bank']\n",
      "bank.v.03\n",
      "\tdo business with a bank or keep an account at a bank\n",
      "\tlemmas=['bank']\n",
      "bank.v.04\n",
      "\tact as the banker in a game or in gambling\n",
      "\tlemmas=['bank']\n",
      "bank.v.05\n",
      "\tbe in the banking business\n",
      "\tlemmas=['bank']\n",
      "deposit.v.02\n",
      "\tput into a bank account\n",
      "\tlemmas=['deposit', 'bank']\n",
      "bank.v.07\n",
      "\tcover with ashes so to control the rate of burning\n",
      "\tlemmas=['bank']\n",
      "trust.v.01\n",
      "\thave confidence or faith in\n",
      "\tlemmas=['trust', 'swear', 'rely', 'bank']\n"
     ]
    }
   ],
   "source": [
    "for synset in wn.synsets(\"bank\"):\n",
    "    print(f\"{synset.name()}\\n\\t{synset.definition()}\\n\\tlemmas={synset.lemma_names()}\")"
   ]
  },
  {
   "cell_type": "markdown",
   "id": "b1ae99b1",
   "metadata": {},
   "source": [
    "# Hyponyms"
   ]
  },
  {
   "cell_type": "code",
   "execution_count": 8,
   "id": "5c0a88f2",
   "metadata": {},
   "outputs": [
    {
     "name": "stdout",
     "output_type": "stream",
     "text": [
      "[Synset('ambulance.n.01'), Synset('beach_wagon.n.01'), Synset('bus.n.04'), Synset('cab.n.03'), Synset('compact.n.03'), Synset('convertible.n.01'), Synset('coupe.n.01'), Synset('cruiser.n.01'), Synset('electric.n.01'), Synset('gas_guzzler.n.01'), Synset('hardtop.n.01'), Synset('hatchback.n.01'), Synset('horseless_carriage.n.01'), Synset('hot_rod.n.01'), Synset('jeep.n.01'), Synset('limousine.n.01'), Synset('loaner.n.02'), Synset('minicar.n.01'), Synset('minivan.n.01'), Synset('model_t.n.01'), Synset('pace_car.n.01'), Synset('racer.n.02'), Synset('roadster.n.01'), Synset('sedan.n.01'), Synset('sport_utility.n.01'), Synset('sports_car.n.01'), Synset('stanley_steamer.n.01'), Synset('stock_car.n.01'), Synset('subcompact.n.01'), Synset('touring_car.n.01'), Synset('used-car.n.01')]\n"
     ]
    }
   ],
   "source": [
    "motorcar = wn.synset(\"car.n.01\")\n",
    "print(motorcar.hyponyms())"
   ]
  },
  {
   "cell_type": "code",
   "execution_count": 9,
   "id": "1ea1cb79",
   "metadata": {},
   "outputs": [
    {
     "name": "stdout",
     "output_type": "stream",
     "text": [
      "66 hyponyms=['Model_T', 'S.U.V.', 'SUV', 'Stanley_Steamer', 'ambulance', 'beach_waggon', 'beach_wagon', 'bus', 'cab', 'compact', 'compact_car', 'convertible', 'coupe', 'cruiser', 'electric', 'electric_automobile', 'electric_car', 'estate_car', 'gas_guzzler', 'hack', 'hardtop', 'hatchback', 'heap', 'horseless_carriage', 'hot-rod', 'hot_rod', 'jalopy', 'jeep', 'landrover', 'limo', 'limousine', 'loaner', 'minicar', 'minivan', 'pace_car', 'patrol_car', 'phaeton', 'police_car', 'police_cruiser', 'prowl_car', 'race_car', 'racer', 'racing_car', 'roadster', 'runabout', 'saloon', 'secondhand_car', 'sedan', 'sport_car', 'sport_utility', 'sport_utility_vehicle', 'sports_car', 'squad_car', 'station_waggon', 'station_wagon', 'stock_car', 'subcompact', 'subcompact_car', 'taxi', 'taxicab', 'tourer', 'touring_car', 'two-seater', 'used-car', 'waggon', 'wagon']\n"
     ]
    }
   ],
   "source": [
    "tmp = []\n",
    "for synset in motorcar.hyponyms():\n",
    "    for lm in synset.lemma_names():\n",
    "        tmp.append(lm)\n",
    "tmp.sort()\n",
    "print(f\"{len(tmp)} hyponyms={tmp}\")"
   ]
  },
  {
   "cell_type": "code",
   "execution_count": 10,
   "id": "ff77e95e",
   "metadata": {},
   "outputs": [
    {
     "name": "stdout",
     "output_type": "stream",
     "text": [
      "a motor vehicle with four wheels; usually propelled by an internal combustion engine\n",
      "75 hyponyms=['Model_T', 'S.U.V.', 'SUV', 'Stanley_Steamer', 'ambulance', 'beach_waggon', 'beach_wagon', 'berlin', 'brougham', 'bus', 'cab', 'compact', 'compact_car', 'convertible', 'coupe', 'cruiser', 'electric', 'electric_automobile', 'electric_car', 'estate_car', 'finisher', 'funny_wagon', 'gas_guzzler', 'gypsy_cab', 'hack', 'hardtop', 'hatchback', 'heap', 'horseless_carriage', 'hot-rod', 'hot_rod', 'jalopy', 'jeep', 'landrover', 'limo', 'limousine', 'loaner', 'minicab', 'minicar', 'minivan', 'pace_car', 'panda_car', 'patrol_car', 'phaeton', 'police_car', 'police_cruiser', 'prowl_car', 'race_car', 'racer', 'racing_car', 'roadster', 'runabout', 'saloon', 'secondhand_car', 'sedan', 'shooting_brake', 'sport_car', 'sport_utility', 'sport_utility_vehicle', 'sports_car', 'squad_car', 'station_waggon', 'station_wagon', 'stock_car', 'stock_car', 'subcompact', 'subcompact_car', 'taxi', 'taxicab', 'tourer', 'touring_car', 'two-seater', 'used-car', 'waggon', 'wagon']\n",
      "\n",
      "\n",
      "a wheeled vehicle adapted to the rails of railroad\n",
      "49 hyponyms=['Pullman', 'Pullman_car', 'baggage_car', 'boxcar', 'buffet_car', 'cabin_car', 'caboose', 'carriage', 'cattle_car', 'chair_car', 'club_car', 'coach', 'coal_car', 'diner', 'dining_car', 'dining_compartment', 'drawing-room_car', 'flat', 'flatbed', 'flatcar', 'freight_car', 'gondola', 'gondola_car', \"guard's_van\", 'handcar', 'lounge_car', 'luggage_van', 'mail_car', 'nonsmoker', 'nonsmoking_car', 'palace_car', 'parlor_car', 'parlour_car', 'passenger_car', 'refrigerator_car', 'sleeper', 'sleeping_car', 'slip_carriage', 'slip_coach', 'smoker', 'smoking_car', 'smoking_carriage', 'smoking_compartment', 'stockcar', 'tank', 'tank_car', 'tender', 'van', 'wagon-lit']\n",
      "\n",
      "\n",
      "the compartment that is suspended from an airship and that carries personnel and the cargo and the power plant\n",
      "0 hyponyms=[]\n",
      "\n",
      "\n",
      "where passengers ride up and down\n",
      "0 hyponyms=[]\n",
      "\n",
      "\n",
      "a conveyance for passengers or freight on a cable railway\n",
      "0 hyponyms=[]\n",
      "\n",
      "\n"
     ]
    }
   ],
   "source": [
    "def hyponyms_rec(synset) -> Set:\n",
    "    hs = synset.hyponyms()\n",
    "    res = set(hs)\n",
    "    for h in hs:\n",
    "        res |= hyponyms_rec(h)\n",
    "    return res\n",
    "\n",
    "\n",
    "ss = wn.synsets(\"car\")\n",
    "for s in ss:\n",
    "    tmp = []\n",
    "    for synset in hyponyms_rec(s):\n",
    "        for lm in synset.lemma_names():\n",
    "            tmp.append(lm)\n",
    "    tmp.sort()\n",
    "    print(f\"{s.definition()}\\n{len(tmp)} hyponyms={tmp}\\n\\n\")"
   ]
  },
  {
   "cell_type": "code",
   "execution_count": 11,
   "id": "f5cad02d",
   "metadata": {},
   "outputs": [
    {
     "name": "stdout",
     "output_type": "stream",
     "text": [
      "any of various primates with short tails or no tail at all\n",
      "34 hyponyms=['Gorilla_gorilla', 'Gorilla_gorilla_beringei', 'Gorilla_gorilla_gorilla', 'Gorilla_gorilla_grauri', 'Hylobates_lar', 'Hylobates_syndactylus', 'Pan_paniscus', 'Pan_troglodytes', 'Pan_troglodytes_schweinfurthii', 'Pan_troglodytes_troglodytes', 'Pan_troglodytes_verus', 'Pongo_pygmaeus', 'Symphalangus_syndactylus', 'anthropoid_ape', 'bonobo', 'central_chimpanzee', 'chimp', 'chimpanzee', 'eastern_chimpanzee', 'eastern_lowland_gorilla', 'gibbon', 'gorilla', 'great_ape', 'lesser_ape', 'mountain_gorilla', 'orang', 'orangutan', 'orangutang', 'pongid', 'pygmy_chimpanzee', 'siamang', 'silverback', 'western_chimpanzee', 'western_lowland_gorilla']\n",
      "\n",
      "\n",
      "someone who copies the words or behavior of another\n",
      "3 hyponyms=['epigon', 'epigone', 'parrot']\n",
      "\n",
      "\n",
      "person who resembles a nonhuman primate\n",
      "0 hyponyms=[]\n",
      "\n",
      "\n",
      "imitate uncritically and in every aspect\n",
      "0 hyponyms=[]\n",
      "\n",
      "\n",
      "represent in or produce a caricature of\n",
      "0 hyponyms=[]\n",
      "\n",
      "\n"
     ]
    }
   ],
   "source": [
    "ss = wn.synsets(\"ape\")\n",
    "for s in ss:\n",
    "    tmp = []\n",
    "    for synset in hyponyms_rec(s):\n",
    "        for lm in synset.lemma_names():\n",
    "            tmp.append(lm)\n",
    "    tmp.sort()\n",
    "    print(f\"{s.definition()}\\n{len(tmp)} hyponyms={tmp}\\n\\n\")"
   ]
  },
  {
   "cell_type": "code",
   "execution_count": 12,
   "id": "5292cd0f",
   "metadata": {},
   "outputs": [
    {
     "name": "stdout",
     "output_type": "stream",
     "text": [
      "sloping land (especially the slope beside a body of water)\n",
      "3 hyponyms=['riverbank', 'riverside', 'waterside']\n",
      "\n",
      "\n",
      "a financial institution that accepts deposits and channels the money into lending activities\n",
      "24 hyponyms=['FSB', 'Federal_Reserve_Bank', 'Home_Loan_Bank', 'MSB', 'acquirer', 'acquirer', 'agent_bank', 'agent_bank', 'building_society', 'commercial_bank', 'credit_union', 'federal_savings_bank', 'full_service_bank', 'lead_bank', 'member_bank', 'merchant_bank', 'mutual_savings_bank', 'national_bank', 'reserve_bank', 'savings_and_loan', 'savings_and_loan_association', 'savings_bank', 'state_bank', 'thrift_institution']\n",
      "\n",
      "\n",
      "a long ridge or pile\n",
      "3 hyponyms=['bluff', 'sandbank', 'shoal']\n",
      "\n",
      "\n",
      "an arrangement of similar objects in a row or in tiers\n",
      "0 hyponyms=[]\n",
      "\n",
      "\n",
      "a supply or stock held in reserve for future use (especially in emergencies)\n",
      "4 hyponyms=['blood_bank', 'eye_bank', 'food_bank', 'soil_bank']\n",
      "\n",
      "\n",
      "the funds held by a gambling house or the dealer in some gambling games\n",
      "0 hyponyms=[]\n",
      "\n",
      "\n",
      "a slope in the turn of a road or track; the outside is higher than the inside in order to reduce the effects of centrifugal force\n",
      "0 hyponyms=[]\n",
      "\n",
      "\n",
      "a container (usually with a slot in the top) for keeping money at home\n",
      "2 hyponyms=['penny_bank', 'piggy_bank']\n",
      "\n",
      "\n",
      "a building in which the business of banking transacted\n",
      "0 hyponyms=[]\n",
      "\n",
      "\n",
      "a flight maneuver; aircraft tips laterally about its longitudinal axis (especially in turning)\n",
      "1 hyponyms=['vertical_bank']\n",
      "\n",
      "\n",
      "tip laterally\n",
      "0 hyponyms=[]\n",
      "\n",
      "\n",
      "enclose with a bank\n",
      "0 hyponyms=[]\n",
      "\n",
      "\n",
      "do business with a bank or keep an account at a bank\n",
      "0 hyponyms=[]\n",
      "\n",
      "\n",
      "act as the banker in a game or in gambling\n",
      "0 hyponyms=[]\n",
      "\n",
      "\n",
      "be in the banking business\n",
      "0 hyponyms=[]\n",
      "\n",
      "\n",
      "put into a bank account\n",
      "1 hyponyms=['redeposit']\n",
      "\n",
      "\n",
      "cover with ashes so to control the rate of burning\n",
      "0 hyponyms=[]\n",
      "\n",
      "\n",
      "have confidence or faith in\n",
      "9 hyponyms=['believe', 'bet', 'calculate', 'count', 'credit', 'depend', 'lean', 'look', 'reckon']\n",
      "\n",
      "\n"
     ]
    }
   ],
   "source": [
    "ss = wn.synsets(\"bank\")\n",
    "for s in ss:\n",
    "    tmp = []\n",
    "    for synset in hyponyms_rec(s):\n",
    "        for lm in synset.lemma_names():\n",
    "            tmp.append(lm)\n",
    "    tmp.sort()\n",
    "    print(f\"{s.definition()}\\n{len(tmp)} hyponyms={tmp}\\n\\n\")"
   ]
  },
  {
   "cell_type": "markdown",
   "id": "a97a1b8d",
   "metadata": {},
   "source": [
    "# Hypernyms"
   ]
  },
  {
   "cell_type": "code",
   "execution_count": 13,
   "id": "1008506f",
   "metadata": {},
   "outputs": [
    {
     "data": {
      "text/plain": [
       "[Synset('motor_vehicle.n.01')]"
      ]
     },
     "execution_count": 13,
     "metadata": {},
     "output_type": "execute_result"
    }
   ],
   "source": [
    "motorcar.hypernyms()"
   ]
  },
  {
   "cell_type": "code",
   "execution_count": 14,
   "id": "666d55f3",
   "metadata": {},
   "outputs": [
    {
     "name": "stdout",
     "output_type": "stream",
     "text": [
      "i=0\n",
      "words=[Word(max_depth=0, min_depth=0, name='entity.n.01', lemma='entity'), Word(max_depth=1, min_depth=1, name='physical_entity.n.01', lemma='physical_entity'), Word(max_depth=2, min_depth=2, name='object.n.01', lemma='object'), Word(max_depth=2, min_depth=2, name='object.n.01', lemma='physical_object'), Word(max_depth=3, min_depth=3, name='whole.n.02', lemma='unit'), Word(max_depth=3, min_depth=3, name='whole.n.02', lemma='whole'), Word(max_depth=4, min_depth=4, name='artifact.n.01', lemma='artefact'), Word(max_depth=4, min_depth=4, name='artifact.n.01', lemma='artifact'), Word(max_depth=5, min_depth=5, name='instrumentality.n.03', lemma='instrumentality'), Word(max_depth=5, min_depth=5, name='instrumentality.n.03', lemma='instrumentation'), Word(max_depth=6, min_depth=6, name='container.n.01', lemma='container'), Word(max_depth=8, min_depth=7, name='wheeled_vehicle.n.01', lemma='wheeled_vehicle'), Word(max_depth=9, min_depth=8, name='self-propelled_vehicle.n.01', lemma='self-propelled_vehicle'), Word(max_depth=10, min_depth=9, name='motor_vehicle.n.01', lemma='automotive_vehicle'), Word(max_depth=10, min_depth=9, name='motor_vehicle.n.01', lemma='motor_vehicle'), Word(max_depth=11, min_depth=10, name='car.n.01', lemma='auto'), Word(max_depth=11, min_depth=10, name='car.n.01', lemma='automobile'), Word(max_depth=11, min_depth=10, name='car.n.01', lemma='car'), Word(max_depth=11, min_depth=10, name='car.n.01', lemma='machine'), Word(max_depth=11, min_depth=10, name='car.n.01', lemma='motorcar')]\n",
      "i=1\n",
      "words=[Word(max_depth=0, min_depth=0, name='entity.n.01', lemma='entity'), Word(max_depth=1, min_depth=1, name='physical_entity.n.01', lemma='physical_entity'), Word(max_depth=2, min_depth=2, name='object.n.01', lemma='object'), Word(max_depth=2, min_depth=2, name='object.n.01', lemma='physical_object'), Word(max_depth=3, min_depth=3, name='whole.n.02', lemma='unit'), Word(max_depth=3, min_depth=3, name='whole.n.02', lemma='whole'), Word(max_depth=4, min_depth=4, name='artifact.n.01', lemma='artefact'), Word(max_depth=4, min_depth=4, name='artifact.n.01', lemma='artifact'), Word(max_depth=5, min_depth=5, name='instrumentality.n.03', lemma='instrumentality'), Word(max_depth=5, min_depth=5, name='instrumentality.n.03', lemma='instrumentation'), Word(max_depth=6, min_depth=6, name='conveyance.n.03', lemma='conveyance'), Word(max_depth=6, min_depth=6, name='conveyance.n.03', lemma='transport'), Word(max_depth=7, min_depth=7, name='vehicle.n.01', lemma='vehicle'), Word(max_depth=8, min_depth=7, name='wheeled_vehicle.n.01', lemma='wheeled_vehicle'), Word(max_depth=9, min_depth=8, name='self-propelled_vehicle.n.01', lemma='self-propelled_vehicle'), Word(max_depth=10, min_depth=9, name='motor_vehicle.n.01', lemma='automotive_vehicle'), Word(max_depth=10, min_depth=9, name='motor_vehicle.n.01', lemma='motor_vehicle'), Word(max_depth=11, min_depth=10, name='car.n.01', lemma='auto'), Word(max_depth=11, min_depth=10, name='car.n.01', lemma='automobile'), Word(max_depth=11, min_depth=10, name='car.n.01', lemma='car'), Word(max_depth=11, min_depth=10, name='car.n.01', lemma='machine'), Word(max_depth=11, min_depth=10, name='car.n.01', lemma='motorcar')]\n"
     ]
    }
   ],
   "source": [
    "class Word(NamedTuple):\n",
    "    max_depth: int\n",
    "    min_depth: int\n",
    "    name: str\n",
    "    lemma: str\n",
    "\n",
    "\n",
    "\n",
    "# Get the path(s) from this synset to the root,\n",
    "# where each path is a list of the synset nodes traversed on the way to the root.\n",
    "for i, p in enumerate(motorcar.hypernym_paths()):\n",
    "    words = []\n",
    "    for synset in p:\n",
    "        for lemma in synset.lemmas():\n",
    "            words.append(\n",
    "                Word(\n",
    "                    name=synset.name(),\n",
    "                    lemma=lemma.name(),\n",
    "                    max_depth=synset.max_depth(),\n",
    "                    min_depth=synset.min_depth()\n",
    "                )\n",
    "            )\n",
    "    words.sort()\n",
    "    print(f\"i={i}\\nwords={words}\")"
   ]
  },
  {
   "cell_type": "code",
   "execution_count": 15,
   "id": "46bfedf2",
   "metadata": {},
   "outputs": [
    {
     "name": "stdout",
     "output_type": "stream",
     "text": [
      "['__class__', '__delattr__', '__dict__', '__dir__', '__doc__', '__eq__', '__format__', '__ge__', '__getattribute__', '__gt__', '__hash__', '__init__', '__init_subclass__', '__le__', '__lt__', '__module__', '__ne__', '__new__', '__reduce__', '__reduce_ex__', '__repr__', '__setattr__', '__sizeof__', '__slots__', '__str__', '__subclasshook__', '__weakref__', '_all_hypernyms', '_definition', '_examples', '_frame_ids', '_hypernyms', '_instance_hypernyms', '_iter_hypernym_lists', '_lemma_names', '_lemma_pointers', '_lemmas', '_lexname', '_max_depth', '_min_depth', '_name', '_needs_root', '_offset', '_pointers', '_pos', '_related', '_shortest_hypernym_paths', '_wordnet_corpus_reader', 'acyclic_tree', 'also_sees', 'attributes', 'causes', 'closure', 'common_hypernyms', 'definition', 'entailments', 'examples', 'frame_ids', 'hypernym_distances', 'hypernym_paths', 'hypernyms', 'hyponyms', 'in_region_domains', 'in_topic_domains', 'in_usage_domains', 'instance_hypernyms', 'instance_hyponyms', 'jcn_similarity', 'lch_similarity', 'lemma_names', 'lemmas', 'lexname', 'lin_similarity', 'lowest_common_hypernyms', 'max_depth', 'member_holonyms', 'member_meronyms', 'min_depth', 'mst', 'name', 'offset', 'part_holonyms', 'part_meronyms', 'path_similarity', 'pos', 'region_domains', 'res_similarity', 'root_hypernyms', 'shortest_path_distance', 'similar_tos', 'substance_holonyms', 'substance_meronyms', 'topic_domains', 'tree', 'usage_domains', 'verb_groups', 'wup_similarity']\n"
     ]
    }
   ],
   "source": [
    "print(dir(wn.synsets(\"motorcar\")[0]))"
   ]
  },
  {
   "cell_type": "code",
   "execution_count": 16,
   "id": "36976b3e",
   "metadata": {},
   "outputs": [
    {
     "name": "stdout",
     "output_type": "stream",
     "text": [
      "sim=0.25\n",
      "Synset('baleen_whale.n.01'), min_depth=14\n"
     ]
    }
   ],
   "source": [
    "synsets = wn.synset(\"right_whale.n.01\").lowest_common_hypernyms(wn.synset(\"minke_whale.n.01\"))\n",
    "sim = wn.synset(\"right_whale.n.01\").path_similarity(wn.synset(\"minke_whale.n.01\"))\n",
    "print(f\"sim={sim}\")\n",
    "for s in synsets:\n",
    "    print(f\"{s}, min_depth={s.min_depth()}\")"
   ]
  },
  {
   "cell_type": "code",
   "execution_count": 17,
   "id": "d9f5a606",
   "metadata": {},
   "outputs": [
    {
     "name": "stdout",
     "output_type": "stream",
     "text": [
      "sim=0.16666666666666666\n",
      "Synset('whale.n.02'), min_depth=13\n"
     ]
    }
   ],
   "source": [
    "synsets = wn.synset(\"right_whale.n.01\").lowest_common_hypernyms(wn.synset(\"orca.n.01\"))\n",
    "sim = wn.synset(\"right_whale.n.01\").path_similarity(wn.synset(\"orca.n.01\"))\n",
    "print(f\"sim={sim}\")\n",
    "for s in synsets:\n",
    "    print(f\"{s}, min_depth={s.min_depth()}\")"
   ]
  },
  {
   "cell_type": "code",
   "execution_count": 18,
   "id": "7811578c",
   "metadata": {},
   "outputs": [
    {
     "name": "stdout",
     "output_type": "stream",
     "text": [
      "sim=0.07692307692307693\n",
      "Synset('vertebrate.n.01'), min_depth=8\n"
     ]
    }
   ],
   "source": [
    "synsets = wn.synset(\"right_whale.n.01\").lowest_common_hypernyms(wn.synset(\"tortoise.n.01\"))\n",
    "sim = wn.synset(\"right_whale.n.01\").path_similarity(wn.synset(\"tortoise.n.01\"))\n",
    "print(f\"sim={sim}\")\n",
    "for s in synsets:\n",
    "    print(f\"{s}, min_depth={s.min_depth()}\")"
   ]
  },
  {
   "cell_type": "code",
   "execution_count": 19,
   "id": "a3baa2e6",
   "metadata": {},
   "outputs": [
    {
     "name": "stdout",
     "output_type": "stream",
     "text": [
      "sim=0.043478260869565216\n",
      "Synset('entity.n.01'), min_depth=0\n"
     ]
    }
   ],
   "source": [
    "synsets = wn.synset(\"right_whale.n.01\").lowest_common_hypernyms(wn.synset(\"novel.n.01\"))\n",
    "sim = wn.synset(\"right_whale.n.01\").path_similarity(wn.synset(\"novel.n.01\"))\n",
    "print(f\"sim={sim}\")\n",
    "for s in synsets:\n",
    "    print(f\"{s}, min_depth={s.min_depth()}\")"
   ]
  },
  {
   "cell_type": "code",
   "execution_count": 20,
   "id": "ac659e33",
   "metadata": {},
   "outputs": [
    {
     "name": "stdout",
     "output_type": "stream",
     "text": [
      "sim(car, automobile)=1.0\n",
      "sim(cat, box)=0.16666666666666666\n",
      "sim(apple, pear)=0.3333333333333333\n"
     ]
    }
   ],
   "source": [
    "def sim(left, right):\n",
    "    res = 0\n",
    "    for a in wn.synsets(left):\n",
    "        for b in wn.synsets(right):\n",
    "            res = max(res, a.path_similarity(b))\n",
    "    return res\n",
    "\n",
    "\n",
    "print(f\"sim(car, automobile)={sim('car', 'automobile')}\")\n",
    "print(f\"sim(cat, box)={sim('cat', 'box')}\")\n",
    "print(f\"sim(apple, pear)={sim('apple', 'pear')}\")"
   ]
  },
  {
   "cell_type": "markdown",
   "id": "9611c9cf",
   "metadata": {},
   "source": [
    "# Polysemy\n",
    "The polysemy of a word is the number of senses it has."
   ]
  },
  {
   "cell_type": "code",
   "execution_count": 21,
   "id": "ac636469",
   "metadata": {},
   "outputs": [
    {
     "data": {
      "text/plain": [
       "7"
      ]
     },
     "execution_count": 21,
     "metadata": {},
     "output_type": "execute_result"
    }
   ],
   "source": [
    "len(wn.synsets(\"dog\", \"n\"))"
   ]
  },
  {
   "cell_type": "code",
   "execution_count": 22,
   "id": "412cadc2",
   "metadata": {},
   "outputs": [
    {
     "data": {
      "text/plain": [
       "10"
      ]
     },
     "execution_count": 22,
     "metadata": {},
     "output_type": "execute_result"
    }
   ],
   "source": [
    "len(wn.synsets(\"bank\", \"n\"))"
   ]
  },
  {
   "cell_type": "code",
   "execution_count": 23,
   "id": "8078c50c",
   "metadata": {},
   "outputs": [
    {
     "name": "stdout",
     "output_type": "stream",
     "text": [
      "Synset('savings_bank.n.02'), definition=a container (usually with a slot in the top) for keeping money at home\n"
     ]
    }
   ],
   "source": [
    "context = \"I went to the bank to deposit money\".split()\n",
    "s = lesk(context, \"bank\", \"n\")\n",
    "print(f\"{s}, definition={s.definition()}\")"
   ]
  },
  {
   "cell_type": "code",
   "execution_count": 24,
   "id": "151709c0",
   "metadata": {},
   "outputs": [
    {
     "name": "stdout",
     "output_type": "stream",
     "text": [
      "Synset('bank.v.07'), definition=cover with ashes so to control the rate of burning\n"
     ]
    }
   ],
   "source": [
    "context = \"The plane banked sharply to the left to avoid the coming storm\".split()\n",
    "s = lesk(context, \"bank\", \"v\")\n",
    "print(f\"{s}, definition={s.definition()}\")"
   ]
  },
  {
   "cell_type": "code",
   "execution_count": 25,
   "id": "77e2e4c1",
   "metadata": {},
   "outputs": [
    {
     "name": "stdout",
     "output_type": "stream",
     "text": [
      "Synset('bank.n.07'), definition=a slope in the turn of a road or track; the outside is higher than the inside in order to reduce the effects of centrifugal force\n"
     ]
    }
   ],
   "source": [
    "context = \"follow the river bank to the estuary\".split()\n",
    "s = lesk(context, \"bank\", \"n\")\n",
    "print(f\"{s}, definition={s.definition()}\")"
   ]
  },
  {
   "cell_type": "code",
   "execution_count": 26,
   "id": "64c6b5e0",
   "metadata": {},
   "outputs": [
    {
     "name": "stdout",
     "output_type": "stream",
     "text": [
      "Synset('bank.v.05'), definition=be in the banking business\n"
     ]
    }
   ],
   "source": [
    "context = \"Investors were banking on the company's growth\".split()\n",
    "s = lesk(context, \"bank\", \"v\")\n",
    "print(f\"{s}, definition={s.definition()}\")"
   ]
  },
  {
   "cell_type": "code",
   "execution_count": 27,
   "id": "47ca54bc",
   "metadata": {},
   "outputs": [
    {
     "data": {
      "text/plain": [
       "['foo-bar', '(', 'foo', ')', 'bar', '!', '?']"
      ]
     },
     "execution_count": 27,
     "metadata": {},
     "output_type": "execute_result"
    }
   ],
   "source": [
    "nltk.word_tokenize(\"foo-bar (foo) bar!?\")"
   ]
  },
  {
   "cell_type": "code",
   "execution_count": 28,
   "id": "ddd3e4cc",
   "metadata": {},
   "outputs": [
    {
     "data": {
      "text/plain": [
       "[('I', 'PRP'),\n",
       " ('went', 'VBD'),\n",
       " ('to', 'TO'),\n",
       " ('the', 'DT'),\n",
       " ('bank', 'NN'),\n",
       " ('to', 'TO'),\n",
       " ('deposit', 'VB'),\n",
       " ('money', 'NN')]"
      ]
     },
     "execution_count": 28,
     "metadata": {},
     "output_type": "execute_result"
    }
   ],
   "source": [
    "tokens = nltk.word_tokenize(\"I went to the bank to deposit money\")\n",
    "nltk.pos_tag(tokens)"
   ]
  },
  {
   "cell_type": "code",
   "execution_count": 29,
   "id": "034c04ab",
   "metadata": {},
   "outputs": [
    {
     "name": "stdout",
     "output_type": "stream",
     "text": [
      "len(synsets)=117659\n"
     ]
    }
   ],
   "source": [
    "synsets = list(wn.all_synsets())\n",
    "print(f\"len(synsets)={len(synsets)}\")"
   ]
  },
  {
   "cell_type": "code",
   "execution_count": 30,
   "id": "1c65aa16",
   "metadata": {},
   "outputs": [
    {
     "name": "stdout",
     "output_type": "stream",
     "text": [
      "0 synsets have no definition\n",
      "len(definitions)=117659\n"
     ]
    }
   ],
   "source": [
    "n = 0\n",
    "definitions = {}\n",
    "for s in synsets:\n",
    "    d = s.definition().strip()\n",
    "    if len(d) == 0:\n",
    "        n += 1\n",
    "        continue\n",
    "    definitions[s.name()] = d\n",
    "print(f\"{n} synsets have no definition\")\n",
    "print(f\"len(definitions)={len(definitions)}\")\n",
    "assert len(synsets) == len(definitions)"
   ]
  },
  {
   "cell_type": "code",
   "execution_count": null,
   "id": "feab845e",
   "metadata": {},
   "outputs": [],
   "source": []
  }
 ],
 "metadata": {
  "kernelspec": {
   "display_name": "Python 3 (ipykernel)",
   "language": "python",
   "name": "python3"
  },
  "language_info": {
   "codemirror_mode": {
    "name": "ipython",
    "version": 3
   },
   "file_extension": ".py",
   "mimetype": "text/x-python",
   "name": "python",
   "nbconvert_exporter": "python",
   "pygments_lexer": "ipython3",
   "version": "3.7.5"
  }
 },
 "nbformat": 4,
 "nbformat_minor": 5
}
