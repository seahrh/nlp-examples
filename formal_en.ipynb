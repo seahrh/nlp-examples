{
 "cells": [
  {
   "cell_type": "code",
   "execution_count": 1,
   "id": "331a9fb5",
   "metadata": {},
   "outputs": [],
   "source": [
    "# Term frequency of formal english corpora"
   ]
  },
  {
   "cell_type": "code",
   "execution_count": 2,
   "id": "49e26233",
   "metadata": {},
   "outputs": [],
   "source": [
    "import csv\n",
    "import nltk\n",
    "from nltk.corpus import wordnet as wn\n",
    "from nltk.corpus import brown\n",
    "from nltk.corpus import reuters"
   ]
  },
  {
   "cell_type": "code",
   "execution_count": 3,
   "id": "ded081d3",
   "metadata": {},
   "outputs": [
    {
     "name": "stderr",
     "output_type": "stream",
     "text": [
      "[nltk_data] Downloading package wordnet to\n",
      "[nltk_data]     C:\\Users\\USER\\AppData\\Roaming\\nltk_data...\n",
      "[nltk_data]   Package wordnet is already up-to-date!\n",
      "[nltk_data] Downloading package brown to\n",
      "[nltk_data]     C:\\Users\\USER\\AppData\\Roaming\\nltk_data...\n",
      "[nltk_data]   Package brown is already up-to-date!\n",
      "[nltk_data] Downloading package reuters to\n",
      "[nltk_data]     C:\\Users\\USER\\AppData\\Roaming\\nltk_data...\n",
      "[nltk_data]   Package reuters is already up-to-date!\n"
     ]
    },
    {
     "data": {
      "text/plain": [
       "['C:\\\\Users\\\\USER/nltk_data',\n",
       " 'S:\\\\dev\\\\seahrh\\\\nlp-examples\\\\env\\\\nltk_data',\n",
       " 'S:\\\\dev\\\\seahrh\\\\nlp-examples\\\\env\\\\share\\\\nltk_data',\n",
       " 'S:\\\\dev\\\\seahrh\\\\nlp-examples\\\\env\\\\lib\\\\nltk_data',\n",
       " 'C:\\\\Users\\\\USER\\\\AppData\\\\Roaming\\\\nltk_data',\n",
       " 'C:\\\\nltk_data',\n",
       " 'D:\\\\nltk_data',\n",
       " 'E:\\\\nltk_data']"
      ]
     },
     "execution_count": 3,
     "metadata": {},
     "output_type": "execute_result"
    }
   ],
   "source": [
    "import ssl\n",
    "\n",
    "try:\n",
    "    _create_unverified_https_context = ssl._create_unverified_context\n",
    "except AttributeError:\n",
    "    pass\n",
    "else:\n",
    "    ssl._create_default_https_context = _create_unverified_https_context\n",
    "\n",
    "nltk.download('wordnet')\n",
    "nltk.download('brown')\n",
    "nltk.download('reuters')\n",
    "nltk.data.path"
   ]
  },
  {
   "cell_type": "code",
   "execution_count": 4,
   "id": "10b6e3f3",
   "metadata": {},
   "outputs": [
    {
     "name": "stdout",
     "output_type": "stream",
     "text": [
      "3,029,399 words\n",
      "Wall time: 7.16 s\n"
     ]
    }
   ],
   "source": [
    "%%time\n",
    "words = [w.lower() for w in wn.words()]\n",
    "words += [w.lower() for w in brown.words()]\n",
    "words += [w.lower() for w in reuters.words()]\n",
    "print(f\"{len(words):,} words\")"
   ]
  },
  {
   "cell_type": "code",
   "execution_count": 5,
   "id": "7772a6b7",
   "metadata": {},
   "outputs": [
    {
     "name": "stdout",
     "output_type": "stream",
     "text": [
      "186,741 words\n",
      "Wall time: 1.65 s\n"
     ]
    }
   ],
   "source": [
    "%%time\n",
    "fd = nltk.FreqDist(words)\n",
    "print(f\"{len(fd):,} words\")"
   ]
  },
  {
   "cell_type": "code",
   "execution_count": 6,
   "id": "2c6425f9",
   "metadata": {},
   "outputs": [
    {
     "data": {
      "text/plain": [
       "[('.', 144033),\n",
       " ('the', 139248),\n",
       " (',', 130694),\n",
       " ('of', 73191),\n",
       " ('to', 62558),\n",
       " ('and', 54501),\n",
       " ('in', 50591),\n",
       " ('a', 48299),\n",
       " ('said', 27345),\n",
       " ('for', 23271),\n",
       " ('it', 19865),\n",
       " ('mln', 18623),\n",
       " ('that', 18134),\n",
       " ('is', 17777),\n",
       " ('on', 15986),\n",
       " ('s', 15703),\n",
       " ('was', 15631),\n",
       " ('he', 14764),\n",
       " ('vs', 14345),\n",
       " (';', 14328),\n",
       " ('-', 13783),\n",
       " ('with', 13468),\n",
       " ('be', 12735),\n",
       " ('from', 12587),\n",
       " ('dlrs', 12417),\n",
       " ('by', 12408),\n",
       " ('at', 12390),\n",
       " ('as', 11829),\n",
       " (\"'\", 11589),\n",
       " ('1', 10505),\n",
       " ('000', 10277),\n",
       " ('pct', 9811),\n",
       " ('its', 9260),\n",
       " ('not', 9000),\n",
       " ('&', 8861),\n",
       " ('``', 8837),\n",
       " (\"''\", 8789),\n",
       " ('lt', 8696),\n",
       " ('this', 8661),\n",
       " ('cts', 8361),\n",
       " ('an', 8298),\n",
       " ('will', 8198),\n",
       " ('year', 8188),\n",
       " ('had', 8108),\n",
       " ('but', 7983),\n",
       " ('his', 7669),\n",
       " ('are', 7610),\n",
       " ('or', 7455),\n",
       " ('>', 7449),\n",
       " ('would', 7387)]"
      ]
     },
     "execution_count": 6,
     "metadata": {},
     "output_type": "execute_result"
    }
   ],
   "source": [
    "fd.most_common(50)"
   ]
  },
  {
   "cell_type": "code",
   "execution_count": 7,
   "id": "e7454ed0",
   "metadata": {},
   "outputs": [
    {
     "name": "stdout",
     "output_type": "stream",
     "text": [
      "wtf\t\t0.0\n",
      "omg\t\t0.0\n",
      "dog\t\t2.5747681305763948e-05\n"
     ]
    }
   ],
   "source": [
    "ws = [\"wtf\", \"omg\", \"dog\"]\n",
    "for w in ws:\n",
    "    print(f\"{w}\\t\\t{fd.freq(w)}\")"
   ]
  },
  {
   "cell_type": "code",
   "execution_count": 10,
   "id": "bca4458e",
   "metadata": {},
   "outputs": [],
   "source": [
    "with open(\"output/formal_en.tsv\", \"w\") as f:\n",
    "    writer = csv.writer(f, delimiter='\\t', lineterminator='\\n')\n",
    "    writer.writerow([\"Word\", \"Count\"])\n",
    "    for word, count in fd.most_common():\n",
    "        writer.writerow([word, count])"
   ]
  },
  {
   "cell_type": "code",
   "execution_count": null,
   "id": "6c4591eb",
   "metadata": {},
   "outputs": [],
   "source": []
  }
 ],
 "metadata": {
  "kernelspec": {
   "display_name": "Python 3 (ipykernel)",
   "language": "python",
   "name": "python3"
  },
  "language_info": {
   "codemirror_mode": {
    "name": "ipython",
    "version": 3
   },
   "file_extension": ".py",
   "mimetype": "text/x-python",
   "name": "python",
   "nbconvert_exporter": "python",
   "pygments_lexer": "ipython3",
   "version": "3.7.5"
  }
 },
 "nbformat": 4,
 "nbformat_minor": 5
}
