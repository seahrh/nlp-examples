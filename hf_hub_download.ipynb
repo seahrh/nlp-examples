{
 "cells": [
  {
   "cell_type": "code",
   "execution_count": 1,
   "id": "8f6dbc7b-732b-4c8f-8fd6-c072abde5b16",
   "metadata": {},
   "outputs": [],
   "source": [
    "from pathlib import Path\n",
    "from huggingface_hub import snapshot_download"
   ]
  },
  {
   "cell_type": "code",
   "execution_count": 2,
   "id": "81f5f06a-4eef-4406-8d6b-2c23d4d2bb9a",
   "metadata": {},
   "outputs": [],
   "source": [
    "#!export HF_TOKEN=hf_123"
   ]
  },
  {
   "cell_type": "code",
   "execution_count": 3,
   "id": "90529265-9bd7-4b4c-83c4-2bba9550579a",
   "metadata": {},
   "outputs": [
    {
     "data": {
      "application/vnd.jupyter.widget-view+json": {
       "model_id": "da5285b1a5144e01bf025b3bbc38c4f1",
       "version_major": 2,
       "version_minor": 0
      },
      "text/plain": [
       "Fetching 12 files:   0%|          | 0/12 [00:00<?, ?it/s]"
      ]
     },
     "metadata": {},
     "output_type": "display_data"
    },
    {
     "data": {
      "application/vnd.jupyter.widget-view+json": {
       "model_id": "9478e546f43145b9bdd715717390ebb5",
       "version_major": 2,
       "version_minor": 0
      },
      "text/plain": [
       "model-00002-of-00004.safetensors:  28%|##7       | 1.38G/5.00G [00:00<?, ?B/s]"
      ]
     },
     "metadata": {},
     "output_type": "display_data"
    },
    {
     "data": {
      "text/plain": [
       "'/Users/ruhong/huggingface/meta-llama/Meta-Llama-3-8B'"
      ]
     },
     "execution_count": 3,
     "metadata": {},
     "output_type": "execute_result"
    }
   ],
   "source": [
    "#repo_id = \"google/gemma-1.1-2b-it\"\n",
    "repo_id = \"meta-llama/Meta-Llama-3-8B\"\n",
    "#repo_id = \"Qwen/Qwen2-7B-Instruct\"\n",
    "#repo_id = \"FacebookAI/xlm-roberta-base\"\n",
    "snapshot_download(\n",
    "    repo_id=repo_id, \n",
    "    allow_patterns=[\"*.model\", \"*.json\", \"*.safetensors\"],\n",
    "    local_dir=Path(\"/Users/ruhong/huggingface\") / repo_id,\n",
    ")"
   ]
  },
  {
   "cell_type": "code",
   "execution_count": null,
   "id": "d055df36-0157-49c7-97fe-b9c24b3f2b68",
   "metadata": {},
   "outputs": [],
   "source": []
  }
 ],
 "metadata": {
  "kernelspec": {
   "display_name": "Python 3 (ipykernel)",
   "language": "python",
   "name": "python3"
  },
  "language_info": {
   "codemirror_mode": {
    "name": "ipython",
    "version": 3
   },
   "file_extension": ".py",
   "mimetype": "text/x-python",
   "name": "python",
   "nbconvert_exporter": "python",
   "pygments_lexer": "ipython3",
   "version": "3.11.7"
  }
 },
 "nbformat": 4,
 "nbformat_minor": 5
}
