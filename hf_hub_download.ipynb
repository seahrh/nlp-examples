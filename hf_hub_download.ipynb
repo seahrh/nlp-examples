{
 "cells": [
  {
   "cell_type": "code",
   "execution_count": 1,
   "id": "8f6dbc7b-732b-4c8f-8fd6-c072abde5b16",
   "metadata": {},
   "outputs": [],
   "source": [
    "from pathlib import Path\n",
    "from huggingface_hub import snapshot_download"
   ]
  },
  {
   "cell_type": "code",
   "execution_count": 2,
   "id": "81f5f06a-4eef-4406-8d6b-2c23d4d2bb9a",
   "metadata": {},
   "outputs": [],
   "source": [
    "#!export HF_TOKEN=hf_123"
   ]
  },
  {
   "cell_type": "code",
   "execution_count": 3,
   "id": "90529265-9bd7-4b4c-83c4-2bba9550579a",
   "metadata": {},
   "outputs": [
    {
     "data": {
      "application/vnd.jupyter.widget-view+json": {
       "model_id": "1a8f70b8a1764582a356fa9f4daebb57",
       "version_major": 2,
       "version_minor": 0
      },
      "text/plain": [
       "Fetching 19 files:   0%|          | 0/19 [00:00<?, ?it/s]"
      ]
     },
     "metadata": {},
     "output_type": "display_data"
    },
    {
     "data": {
      "application/vnd.jupyter.widget-view+json": {
       "model_id": "7458e595233a434f809c8d274c8252ad",
       "version_major": 2,
       "version_minor": 0
      },
      "text/plain": [
       "model-00007-of-00012.safetensors:  46%|####6     | 2.30G/4.98G [00:00<?, ?B/s]"
      ]
     },
     "metadata": {},
     "output_type": "display_data"
    },
    {
     "data": {
      "application/vnd.jupyter.widget-view+json": {
       "model_id": "1c67b265b7e040058c56562b42fabd2a",
       "version_major": 2,
       "version_minor": 0
      },
      "text/plain": [
       "model-00008-of-00012.safetensors:  47%|####7     | 2.30G/4.87G [00:00<?, ?B/s]"
      ]
     },
     "metadata": {},
     "output_type": "display_data"
    },
    {
     "data": {
      "application/vnd.jupyter.widget-view+json": {
       "model_id": "b43a7c8e1fe1422da02efda53f8c938b",
       "version_major": 2,
       "version_minor": 0
      },
      "text/plain": [
       "model-00005-of-00012.safetensors:  47%|####7     | 2.31G/4.87G [00:00<?, ?B/s]"
      ]
     },
     "metadata": {},
     "output_type": "display_data"
    },
    {
     "data": {
      "application/vnd.jupyter.widget-view+json": {
       "model_id": "0eb0dc3f3ecf40d88d5d573b2bc52a8b",
       "version_major": 2,
       "version_minor": 0
      },
      "text/plain": [
       "model-00002-of-00012.safetensors:  47%|####7     | 2.30G/4.87G [00:00<?, ?B/s]"
      ]
     },
     "metadata": {},
     "output_type": "display_data"
    },
    {
     "data": {
      "application/vnd.jupyter.widget-view+json": {
       "model_id": "b71ad2f95f554eb5b8c36b0811424ca0",
       "version_major": 2,
       "version_minor": 0
      },
      "text/plain": [
       "model-00006-of-00012.safetensors:  47%|####7     | 2.30G/4.87G [00:00<?, ?B/s]"
      ]
     },
     "metadata": {},
     "output_type": "display_data"
    },
    {
     "data": {
      "application/vnd.jupyter.widget-view+json": {
       "model_id": "7dba1374412347bf8c4222a1fb4bfaf9",
       "version_major": 2,
       "version_minor": 0
      },
      "text/plain": [
       "model-00004-of-00012.safetensors:  46%|####6     | 2.30G/4.98G [00:00<?, ?B/s]"
      ]
     },
     "metadata": {},
     "output_type": "display_data"
    },
    {
     "data": {
      "text/plain": [
       "'/Users/ruhong/huggingface/google/gemma-2-27b-it'"
      ]
     },
     "execution_count": 3,
     "metadata": {},
     "output_type": "execute_result"
    }
   ],
   "source": [
    "repo_id = \"google/gemma-2-27b-it\"\n",
    "#repo_id = \"meta-llama/Meta-Llama-3-70B-Instruct\"\n",
    "#repo_id = \"Qwen/Qwen2-1.5B-Instruct\"\n",
    "#repo_id = \"FacebookAI/xlm-roberta-base\"\n",
    "snapshot_download(\n",
    "    repo_id=repo_id, \n",
    "    allow_patterns=[\"*.model\", \"*.json\", \"*.safetensors\"],\n",
    "    local_dir=Path(\"/Users/ruhong/huggingface\") / repo_id,\n",
    ")"
   ]
  },
  {
   "cell_type": "code",
   "execution_count": null,
   "id": "d055df36-0157-49c7-97fe-b9c24b3f2b68",
   "metadata": {},
   "outputs": [],
   "source": []
  }
 ],
 "metadata": {
  "kernelspec": {
   "display_name": "Python 3 (ipykernel)",
   "language": "python",
   "name": "python3"
  },
  "language_info": {
   "codemirror_mode": {
    "name": "ipython",
    "version": 3
   },
   "file_extension": ".py",
   "mimetype": "text/x-python",
   "name": "python",
   "nbconvert_exporter": "python",
   "pygments_lexer": "ipython3",
   "version": "3.11.7"
  }
 },
 "nbformat": 4,
 "nbformat_minor": 5
}
