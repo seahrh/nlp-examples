{
 "cells": [
  {
   "cell_type": "markdown",
   "id": "923374a9",
   "metadata": {},
   "source": [
    "# Spelling correction with symspellpy\n",
    "Spell check for sentences/paragraphs\n",
    "\n",
    "Recommendations\n",
    "- Out of the box, works better with shorter text (more words get mangled in longer text)\n",
    "- Probably will work better if you provide your own custom dictionary extracted from target corpus (did not try this out)\n",
    "\n",
    "References\n",
    "- https://symspellpy.readthedocs.io/en/latest/examples/lookup_compound.html\n",
    "- https://github.com/mammothb/symspellpy"
   ]
  },
  {
   "cell_type": "code",
   "execution_count": 1,
   "id": "ca3ca906",
   "metadata": {},
   "outputs": [],
   "source": [
    "import pkg_resources\n",
    "from symspellpy import SymSpell"
   ]
  },
  {
   "cell_type": "code",
   "execution_count": 2,
   "id": "efbf19d1",
   "metadata": {},
   "outputs": [
    {
     "name": "stdout",
     "output_type": "stream",
     "text": [
      "CPU times: user 2.28 s, sys: 266 ms, total: 2.55 s\n",
      "Wall time: 2.57 s\n"
     ]
    },
    {
     "data": {
      "text/plain": [
       "True"
      ]
     },
     "execution_count": 2,
     "metadata": {},
     "output_type": "execute_result"
    }
   ],
   "source": [
    "%%time\n",
    "sym_spell = SymSpell(max_dictionary_edit_distance=2, prefix_length=7)\n",
    "dictionary_path = pkg_resources.resource_filename(\n",
    "    \"symspellpy\", \"frequency_dictionary_en_82_765.txt\"\n",
    ")\n",
    "bigram_path = pkg_resources.resource_filename(\n",
    "    \"symspellpy\", \"frequency_bigramdictionary_en_243_342.txt\"\n",
    ")\n",
    "# term_index is the column of the term and count_index is the\n",
    "# column of the term frequency\n",
    "sym_spell.load_dictionary(dictionary_path, term_index=0, count_index=1)\n",
    "sym_spell.load_bigram_dictionary(bigram_path, term_index=0, count_index=2)"
   ]
  },
  {
   "cell_type": "markdown",
   "id": "dfc5a8ad",
   "metadata": {},
   "source": [
    "Edit distance=3 is too large and throws error."
   ]
  },
  {
   "cell_type": "code",
   "execution_count": 3,
   "id": "fe764d2d",
   "metadata": {},
   "outputs": [
    {
     "name": "stdout",
     "output_type": "stream",
     "text": [
      "max_edit_distance=1\n",
      "Where is the love he HAd dated for much of thE Past who couldn't read in six grade and inspired Him, 9, 0\n",
      "max_edit_distance=2\n",
      "Where is the love he HAd dated for much of thE Past who couldn't read in six grade and inspired Him, 9, 0\n"
     ]
    }
   ],
   "source": [
    "# lookup suggestions for multi-word input strings (supports compound\n",
    "# splitting & merging)\n",
    "inp = (\n",
    "    \"Whereis th elove heHAd dated forImuch of thEPast who \"\n",
    "    \"couqdn'tread in sixtgrade and ins pired Him\"\n",
    ")\n",
    "# max edit distance per lookup (per single word, not per whole input string)\n",
    "for i in range(1, 3):\n",
    "    print(f\"max_edit_distance={i}\")\n",
    "    suggestions = sym_spell.lookup_compound(\n",
    "        inp, max_edit_distance=i, transfer_casing=True\n",
    "    )\n",
    "    # display suggestion term, edit distance, and term frequency\n",
    "    for suggestion in suggestions:\n",
    "        print(suggestion)"
   ]
  },
  {
   "cell_type": "markdown",
   "id": "74bab750",
   "metadata": {},
   "source": [
    "Long text problems\n",
    "- Preserving case `transfer_casing=True` is unreliable. Lowercase is incorrectly changed to uppercase and vice versa e.g. \"ALSO\" -> \"alsO\", \"same\" -> \"samE\"\n",
    "- Date and time get mangled. Somewhat fixed by `ignore_term_with_digits=True` but \"06:12\" -> \"06 12\"\n",
    "- Acronyms get mangled e.g. ANI. Fixed by `ignore_non_words=True`\n",
    "- Names get mangled e.g. \"Elonka\" -> \"A lanka\", \"Wik/Gnomerplatz\" -> \"win gnome plate\". Not fixed by `ignore_non_words=True`.\n",
    "- Slang get mangled e.g. \"sockpuppets\" -> \"soc puppets\". Not fixed by `ignore_non_words=True`.\n",
    "- Incorrectly removed full stop at the end of sentence\n",
    "- Phrases get mutated - letters and punctuation (comma) get replaced e.g. \"Oh, ALSO, what's\" -> \"of alsO what's\", \"Ohm, also, what's\""
   ]
  },
  {
   "cell_type": "code",
   "execution_count": 4,
   "id": "7ce80cc2",
   "metadata": {},
   "outputs": [
    {
     "name": "stdout",
     "output_type": "stream",
     "text": [
      "len(input)=910\n",
      "max_edit_distance=1\n",
      "a a April 2007 eTC of alsO what's particularly funny is that on that AN i discussion Gene Poole says that A lanka asked him to look at the edits and that in his opinion the edits are the same as Win gnome plate besides it being hypocritical with his and plonk As known history of soc puppet use to try to prevail in conflicts votes the post there is trying to claim that this was something new he came up with based upon evidence in fact it is just the same false accusation he came up with out of nowhere last fall as part of plonk as failed attempt to become an admin and which directLy lead to his soc puppets being outed when he made the charges at that time they were found by multiple admins to be completely groundless he's trying to deceive people by presenting the samE tired old harassment as something new and to failing to mention that he was the one actually usIng those tactics a a a a\n",
      "edit_distance=54, term_frequency=0\n",
      "max_edit_distance=2\n",
      "of apRil of of etC Of Also what's particularly funny is that on that AN i discussion Gene Poole says that Lanka asked him to look at the edits and that in his opinion the edits are the same as Win gnome plate besides it being hypocritical with his and lanka is known history of soc puppet use to try to prevail in conflicts votes the post there is trying to claim that this was something new he came up with based upon evidence in fact it is just the same false accusation he came up with out of nowhere last fall as part of lanka is failed attempt to become an admin and which directLy lead to his soc puppets being outed when he made the charges at that time they were found by multiple admins to be completely groundless he's trying to deceive people by presenting the samE tired old harassment as something new and to failing to mention that he was the one actually usIng those tactics of of\n",
      "edit_distance=63, term_frequency=0\n"
     ]
    }
   ],
   "source": [
    "sents = [\n",
    "    \", 20 April 2007 (UTC) Oh, ALSO, what's particularly funny is that on that ANI discussion, Gene Poole says that Elonka asked him to look at the edits and that in his opinion the edits are the same as Wik/Gnomerplatz...\",\n",
    "    \"besides it being hypocritical with his and Elonka's known history of sockpuppet use to try to prevail in conflicts/votes, the post there is trying to claim that this was something new he came up with based upon evidence.\",\n",
    "    \"In fact it is just the same false accusation he came up with out of nowhere last fall as part of Elonka's failed attempt to become an admin and which directly lead to his sockpuppets being outed.\",\n",
    "    \"When he made the charges at that time they were found by multiple admins to be completely groundless.\",\n",
    "    \"He's trying to deceive people by presenting the same, tired old harassment as something new and to failing to mention that he was the one actually using those tactics.\",\n",
    "    \"06:12\",\n",
    "]\n",
    "inp = \" \".join(sents)\n",
    "print(f\"len(input)={len(inp)}\")\n",
    "for i in range(1, 3):\n",
    "    print(f\"max_edit_distance={i}\")\n",
    "    suggestions = sym_spell.lookup_compound(\n",
    "        inp, max_edit_distance=i, transfer_casing=True\n",
    "    )\n",
    "    for s in suggestions:\n",
    "        print(f\"{s.term}\\nedit_distance={s.distance}, term_frequency={s.count}\")"
   ]
  },
  {
   "cell_type": "code",
   "execution_count": 5,
   "id": "4636ef09",
   "metadata": {},
   "outputs": [
    {
     "name": "stdout",
     "output_type": "stream",
     "text": [
      "len(input)=910\n",
      "max_edit_distance=1\n",
      "20 april 2007 UTC of ALSO what's particularly funny is that on that ANI discussion gene poole says that a lanka asked him to look at the edits and that in his opinion the edits are the same as win gnome plate besides it being hypocritical with his and plonk as known history of soc puppet use to try to prevail in conflicts votes the post there is trying to claim that this was something new he came up with based upon evidence in fact it is just the same false accusation he came up with out of nowhere last fall as part of plonk as failed attempt to become an admin and which directly lead to his soc puppets being outed when he made the charges at that time they were found by multiple admins to be completely groundless he's trying to deceive people by presenting the same tired old harassment as something new and to failing to mention that he was the one actually using those tactics 06 12\n",
      "edit_distance=43, term_frequency=0\n",
      "max_edit_distance=2\n",
      "20 april 2007 UTC of ALSO what's particularly funny is that on that ANI discussion gene poole says that lanka asked him to look at the edits and that in his opinion the edits are the same as win gnome plate besides it being hypocritical with his and lanka is known history of soc puppet use to try to prevail in conflicts votes the post there is trying to claim that this was something new he came up with based upon evidence in fact it is just the same false accusation he came up with out of nowhere last fall as part of lanka is failed attempt to become an admin and which directly lead to his soc puppets being outed when he made the charges at that time they were found by multiple admins to be completely groundless he's trying to deceive people by presenting the same tired old harassment as something new and to failing to mention that he was the one actually using those tactics 06 12\n",
      "edit_distance=44, term_frequency=0\n"
     ]
    }
   ],
   "source": [
    "inp = \" \".join(sents)\n",
    "print(f\"len(input)={len(inp)}\")\n",
    "for i in range(1, 3):\n",
    "    print(f\"max_edit_distance={i}\")\n",
    "    suggestions = sym_spell.lookup_compound(\n",
    "        inp, \n",
    "        max_edit_distance=i, \n",
    "        ignore_non_words=True, \n",
    "        ignore_term_with_digits=True, \n",
    "        transfer_casing=False,\n",
    "        split_by_space=False,\n",
    "    )\n",
    "    for s in suggestions:\n",
    "        print(f\"{s.term}\\nedit_distance={s.distance}, term_frequency={s.count}\")"
   ]
  },
  {
   "cell_type": "code",
   "execution_count": 6,
   "id": "efa30f2d",
   "metadata": {},
   "outputs": [
    {
     "name": "stdout",
     "output_type": "stream",
     "text": [
      "len(input)=217\n",
      ", 20 April 2007 (UTC) Oh, ALSO, what's particularly funny is that on that ANI discussion, Gene Poole says that Elonka asked him to look at the edits and that in his opinion the edits are the same as Wik/Gnomerplatz...\n",
      "max_edit_distance=1\n",
      "a 20 April 2007 bUT Cd Ohm also, what's particularly funny is that on that ANI discussion Gene Poole says that A lanka asked him to look at the edits and that in his opinion the edits are the same as Wik/Gnomerplatz...\n",
      "edit_distance=13, term_frequency=0\n",
      "max_edit_distance=2\n",
      "a 20 April 2007 dUTCh Ohm also, what's particularly funny is that on that ANI discussion Gene Poole says that Lanka asked him to look at the edits and that in his opinion the edits are the same as Wik/Gnomerplatz...\n",
      "edit_distance=12, term_frequency=0\n",
      "len(input)=220\n",
      "besides it being hypocritical with his and Elonka's known history of sockpuppet use to try to prevail in conflicts/votes, the post there is trying to claim that this was something new he came up with based upon evidence.\n",
      "max_edit_distance=1\n",
      "besides it being hypocritical with his and Plonk as known history of soc puppet use to try to prevail in conflicts votes the post there is trying to claim that this was something new he came up with based upon evidence\n",
      "edit_distance=7, term_frequency=0\n",
      "max_edit_distance=2\n",
      "besides it being hypocritical with his and Lanka is known history of soc puppet use to try to prevail in conflicts votes the post there is trying to claim that this was something new he came up with based upon evidence\n",
      "edit_distance=9, term_frequency=0\n",
      "len(input)=195\n",
      "In fact it is just the same false accusation he came up with out of nowhere last fall as part of Elonka's failed attempt to become an admin and which directly lead to his sockpuppets being outed.\n",
      "max_edit_distance=1\n",
      "In fact it is just the same false accusation he came up with out of nowhere last fall as part of Plonk as failed attempt to become an admin and which directly lead to his soc puppets being outed\n",
      "edit_distance=5, term_frequency=0\n",
      "max_edit_distance=2\n",
      "In fact it is just the same false accusation he came up with out of nowhere last fall as part of lanka is failed attempt to become an admin and which directly lead to his soc puppets being outed\n",
      "edit_distance=6, term_frequency=0\n",
      "len(input)=101\n",
      "When he made the charges at that time they were found by multiple admins to be completely groundless.\n",
      "max_edit_distance=1\n",
      "When he made the charges at that time they were found by multiple admins to be completely groundless\n",
      "edit_distance=1, term_frequency=0\n",
      "max_edit_distance=2\n",
      "When he made the charges at that time they were found by multiple admins to be completely groundless\n",
      "edit_distance=1, term_frequency=0\n",
      "len(input)=167\n",
      "He's trying to deceive people by presenting the same, tired old harassment as something new and to failing to mention that he was the one actually using those tactics.\n",
      "max_edit_distance=1\n",
      "He's trying to deceive people by presenting the same tired old harassment as something new and to failing to mention that he was the one actually using those tactics\n",
      "edit_distance=2, term_frequency=0\n",
      "max_edit_distance=2\n",
      "He's trying to deceive people by presenting the same tired old harassment as something new and to failing to mention that he was the one actually using those tactics\n",
      "edit_distance=2, term_frequency=0\n",
      "len(input)=5\n",
      "06:12\n",
      "max_edit_distance=1\n",
      "06:12\n",
      "edit_distance=0, term_frequency=1024908267229\n",
      "max_edit_distance=2\n",
      "06:12\n",
      "edit_distance=0, term_frequency=1024908267229\n"
     ]
    }
   ],
   "source": [
    "for inp in sents:\n",
    "    print(f\"len(input)={len(inp)}\\n{inp}\")\n",
    "    for i in range(1, 3):\n",
    "        print(f\"max_edit_distance={i}\")\n",
    "        suggestions = sym_spell.lookup_compound(\n",
    "            inp, \n",
    "            max_edit_distance=i, \n",
    "            ignore_non_words=True, \n",
    "            ignore_term_with_digits=True, \n",
    "            transfer_casing=True,\n",
    "            split_by_space=True,\n",
    "        )\n",
    "        for s in suggestions:\n",
    "            print(f\"{s.term}\\nedit_distance={s.distance}, term_frequency={s.count}\")"
   ]
  },
  {
   "cell_type": "code",
   "execution_count": null,
   "id": "c232db44",
   "metadata": {},
   "outputs": [],
   "source": []
  }
 ],
 "metadata": {
  "kernelspec": {
   "display_name": "Python 3 (ipykernel)",
   "language": "python",
   "name": "python3"
  },
  "language_info": {
   "codemirror_mode": {
    "name": "ipython",
    "version": 3
   },
   "file_extension": ".py",
   "mimetype": "text/x-python",
   "name": "python",
   "nbconvert_exporter": "python",
   "pygments_lexer": "ipython3",
   "version": "3.7.5"
  }
 },
 "nbformat": 4,
 "nbformat_minor": 5
}
