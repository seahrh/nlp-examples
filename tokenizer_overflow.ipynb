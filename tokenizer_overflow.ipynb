{
 "cells": [
  {
   "cell_type": "code",
   "execution_count": 1,
   "id": "90a8f5e2",
   "metadata": {},
   "outputs": [],
   "source": [
    "import glob\n",
    "import os\n",
    "import sys\n",
    "import numpy as np\n",
    "import pandas as pd\n",
    "import torch\n",
    "import pytorch_lightning as pl\n",
    "from transformers import AutoConfig, AutoTokenizer, AutoModelForQuestionAnswering\n",
    "from typing import NamedTuple, Dict, List, Callable\n",
    "from tqdm import tqdm"
   ]
  },
  {
   "cell_type": "code",
   "execution_count": 2,
   "id": "7070f58d",
   "metadata": {},
   "outputs": [
    {
     "name": "stdout",
     "output_type": "stream",
     "text": [
      "Using device:cuda\n",
      "0: NVIDIA GeForce GTX 1060 6GB\n",
      "Memory Allocated:\t 0.0 GB\n",
      "Memory Cached:\t\t 0.0 GB\n"
     ]
    }
   ],
   "source": [
    "device = torch.device('cuda' if torch.cuda.is_available() else 'cpu')\n",
    "print(f'Using device:{device}')\n",
    "\n",
    "#Additional Info when using cuda\n",
    "if device.type == 'cuda':\n",
    "    for i in range(torch.cuda.device_count()):\n",
    "        print(f\"{i}: {torch.cuda.get_device_name(i)}\")\n",
    "        print('Memory Allocated:\\t', round(torch.cuda.memory_allocated(i)/1024**3,1), 'GB')\n",
    "        print('Memory Cached:\\t\\t', round(torch.cuda.memory_reserved(i)/1024**3,1), 'GB')"
   ]
  },
  {
   "cell_type": "code",
   "execution_count": 3,
   "id": "4a9ceaba",
   "metadata": {},
   "outputs": [
    {
     "name": "stderr",
     "output_type": "stream",
     "text": [
      "Global seed set to 31\n"
     ]
    },
    {
     "data": {
      "text/plain": [
       "31"
      ]
     },
     "execution_count": 3,
     "metadata": {},
     "output_type": "execute_result"
    }
   ],
   "source": [
    "os.environ[\"TOKENIZERS_PARALLELISM\"] = \"false\"\n",
    "pd.set_option(\"use_inf_as_na\", True)\n",
    "pd.set_option(\"max_info_columns\", 9999)\n",
    "pd.set_option(\"display.max_columns\", 9999)\n",
    "pd.set_option(\"display.max_rows\", 9999)\n",
    "pd.set_option('max_colwidth', 9999)\n",
    "tqdm.pandas()\n",
    "pl.seed_everything(31)"
   ]
  },
  {
   "cell_type": "code",
   "execution_count": 4,
   "id": "2ebd6e5d",
   "metadata": {},
   "outputs": [
    {
     "name": "stdout",
     "output_type": "stream",
     "text": [
      "PreTrainedTokenizerFast(name_or_path='pretrained/deepset/xlm-roberta-base-squad2', vocab_size=250002, model_max_len=512, is_fast=True, padding_side='right', special_tokens={'bos_token': '<s>', 'eos_token': '</s>', 'unk_token': '<unk>', 'sep_token': '</s>', 'pad_token': '<pad>', 'cls_token': '<s>', 'mask_token': '<mask>'})\n",
      "input_keys=['labels', 'input_ids', 'attention_mask']\n"
     ]
    }
   ],
   "source": [
    "sp = AutoTokenizer.from_pretrained(\"pretrained/deepset/xlm-roberta-base-squad2\")\n",
    "input_keys = [\"labels\"] + sp.model_input_names\n",
    "print(f\"{repr(sp)}\\ninput_keys={input_keys}\")"
   ]
  },
  {
   "cell_type": "code",
   "execution_count": 5,
   "id": "988f2970",
   "metadata": {},
   "outputs": [
    {
     "name": "stdout",
     "output_type": "stream",
     "text": [
      "PreTrainedTokenizerFast(name_or_path='pretrained/google/electra-small-discriminator', vocab_size=30522, model_max_len=1000000000000000019884624838656, is_fast=True, padding_side='right', special_tokens={'unk_token': '[UNK]', 'sep_token': '[SEP]', 'pad_token': '[PAD]', 'cls_token': '[CLS]', 'mask_token': '[MASK]'})\n",
      "input_keys=['labels', 'input_ids', 'token_type_ids', 'attention_mask']\n"
     ]
    }
   ],
   "source": [
    "wp = AutoTokenizer.from_pretrained(\"pretrained/google/electra-small-discriminator\")\n",
    "input_keys = [\"labels\"] + wp.model_input_names\n",
    "print(f\"{repr(wp)}\\ninput_keys={input_keys}\")"
   ]
  },
  {
   "cell_type": "code",
   "execution_count": 6,
   "id": "f364fa2d",
   "metadata": {},
   "outputs": [
    {
     "name": "stdout",
     "output_type": "stream",
     "text": [
      "PreTrainedTokenizerFast(name_or_path='pretrained/roberta-base', vocab_size=50265, model_max_len=1000000000000000019884624838656, is_fast=True, padding_side='right', special_tokens={'bos_token': '<s>', 'eos_token': '</s>', 'unk_token': '<unk>', 'sep_token': '</s>', 'pad_token': '<pad>', 'cls_token': '<s>', 'mask_token': AddedToken(\"<mask>\", rstrip=False, lstrip=True, single_word=False, normalized=False)})\n",
      "input_keys=['labels', 'input_ids', 'attention_mask']\n"
     ]
    }
   ],
   "source": [
    "bpe = AutoTokenizer.from_pretrained(\"pretrained/roberta-base\")\n",
    "input_keys = [\"labels\"] + bpe.model_input_names\n",
    "print(f\"{repr(bpe)}\\ninput_keys={input_keys}\")"
   ]
  },
  {
   "cell_type": "code",
   "execution_count": 7,
   "id": "5c4a4353",
   "metadata": {},
   "outputs": [],
   "source": [
    "tokenizers = {\n",
    "    \"wordpiece\": wp,\n",
    "    \"sentencepiece\": sp,\n",
    "    \"byte_pair_encoding\": bpe,\n",
    "}"
   ]
  },
  {
   "cell_type": "code",
   "execution_count": 8,
   "id": "247f0185",
   "metadata": {},
   "outputs": [
    {
     "name": "stdout",
     "output_type": "stream",
     "text": [
      "========\n",
      "wordpiece\n",
      "dict_keys(['input_ids', 'token_type_ids', 'attention_mask', 'special_tokens_mask', 'overflow_to_sample_mapping'])\n",
      "['[CLS]', 'question', 'question', '[SEP]', 'one', 'two', 'three', '[SEP]', '[PAD]', '[PAD]']\n",
      "special_tokens_mask=[[1, 0, 0, 1, 0, 0, 0, 1, 1, 1]]\n",
      "token_type_ids=[[0, 0, 0, 0, 1, 1, 1, 1, 0, 0]]\n",
      "1 overflow_to_sample_mapping=[0]\n",
      "========\n",
      "sentencepiece\n",
      "dict_keys(['input_ids', 'token_type_ids', 'attention_mask', 'special_tokens_mask', 'overflow_to_sample_mapping'])\n",
      "['<s>', '▁question', '▁question', '</s>', '</s>', '▁one', '▁two', '▁three', '</s>', '<pad>']\n",
      "special_tokens_mask=[[1, 0, 0, 1, 1, 0, 0, 0, 1, 1]]\n",
      "token_type_ids=[[0, 0, 0, 0, 0, 0, 0, 0, 0, 0]]\n",
      "1 overflow_to_sample_mapping=[0]\n",
      "========\n",
      "byte_pair_encoding\n",
      "dict_keys(['input_ids', 'token_type_ids', 'attention_mask', 'special_tokens_mask', 'overflow_to_sample_mapping'])\n",
      "['<s>', 'question', 'Ġquestion', '</s>', '</s>', 'one', 'Ġtwo', 'Ġthree', '</s>', '<pad>']\n",
      "special_tokens_mask=[[1, 0, 0, 1, 1, 0, 0, 0, 1, 1]]\n",
      "token_type_ids=[[0, 0, 0, 0, 0, 0, 0, 0, 0, 0]]\n",
      "1 overflow_to_sample_mapping=[0]\n"
     ]
    }
   ],
   "source": [
    "s1 = [\"question question\"]\n",
    "s2 = [\"one two three\"]\n",
    "for name, tokenizer in tokenizers.items():\n",
    "    print(f\"========\\n{name}\")\n",
    "    x = tokenizer(\n",
    "        s1, \n",
    "        s2, \n",
    "        truncation=\"only_second\",\n",
    "        max_length=10,\n",
    "        padding=\"max_length\",\n",
    "        stride=0,\n",
    "        return_overflowing_tokens=True,\n",
    "        return_token_type_ids=True,\n",
    "        return_special_tokens_mask=True,\n",
    "    )\n",
    "    print(x.keys())\n",
    "    for input_ids in x[\"input_ids\"]:\n",
    "        print(tokenizer.convert_ids_to_tokens(input_ids))\n",
    "    special_tokens_mask = x.pop(\"special_tokens_mask\")\n",
    "    print(f\"special_tokens_mask={repr(special_tokens_mask)}\")\n",
    "    token_type_ids = x.pop(\"token_type_ids\")\n",
    "    print(f\"token_type_ids={repr(token_type_ids)}\")\n",
    "    overflow_to_sample_mapping = x.pop(\"overflow_to_sample_mapping\")\n",
    "    print(f\"{len(overflow_to_sample_mapping)} overflow_to_sample_mapping={repr(overflow_to_sample_mapping)}\")"
   ]
  },
  {
   "cell_type": "markdown",
   "id": "d27c124c",
   "metadata": {},
   "source": [
    "# Non-overlapping windows"
   ]
  },
  {
   "cell_type": "code",
   "execution_count": 9,
   "id": "3e5243d6",
   "metadata": {},
   "outputs": [
    {
     "name": "stdout",
     "output_type": "stream",
     "text": [
      "========\n",
      "wordpiece\n",
      "dict_keys(['input_ids', 'token_type_ids', 'attention_mask', 'special_tokens_mask', 'overflow_to_sample_mapping'])\n",
      "['[CLS]', 'question', 'question', '[SEP]', 'one', 'two', 'three', 'four', 'five', '[SEP]']\n",
      "['[CLS]', 'question', 'question', '[SEP]', 'six', '[SEP]', '[PAD]', '[PAD]', '[PAD]', '[PAD]']\n",
      "special_tokens_mask=[[1, 0, 0, 1, 0, 0, 0, 0, 0, 1], [1, 0, 0, 1, 0, 1, 1, 1, 1, 1]]\n",
      "token_type_ids=[[0, 0, 0, 0, 1, 1, 1, 1, 1, 1], [0, 0, 0, 0, 1, 1, 0, 0, 0, 0]]\n",
      "2 overflow_to_sample_mapping=[0, 0]\n",
      "========\n",
      "sentencepiece\n",
      "dict_keys(['input_ids', 'token_type_ids', 'attention_mask', 'special_tokens_mask', 'overflow_to_sample_mapping'])\n",
      "['<s>', '▁question', '▁question', '</s>', '</s>', '▁one', '▁two', '▁three', '▁four', '</s>']\n",
      "['<s>', '▁question', '▁question', '</s>', '</s>', '▁five', '▁six', '</s>', '<pad>', '<pad>']\n",
      "special_tokens_mask=[[1, 0, 0, 1, 1, 0, 0, 0, 0, 1], [1, 0, 0, 1, 1, 0, 0, 1, 1, 1]]\n",
      "token_type_ids=[[0, 0, 0, 0, 0, 0, 0, 0, 0, 0], [0, 0, 0, 0, 0, 0, 0, 0, 0, 0]]\n",
      "2 overflow_to_sample_mapping=[0, 0]\n",
      "========\n",
      "byte_pair_encoding\n",
      "dict_keys(['input_ids', 'token_type_ids', 'attention_mask', 'special_tokens_mask', 'overflow_to_sample_mapping'])\n",
      "['<s>', 'question', 'Ġquestion', '</s>', '</s>', 'one', 'Ġtwo', 'Ġthree', 'Ġfour', '</s>']\n",
      "['<s>', 'question', 'Ġquestion', '</s>', '</s>', 'Ġfive', 'Ġsix', '</s>', '<pad>', '<pad>']\n",
      "special_tokens_mask=[[1, 0, 0, 1, 1, 0, 0, 0, 0, 1], [1, 0, 0, 1, 1, 0, 0, 1, 1, 1]]\n",
      "token_type_ids=[[0, 0, 0, 0, 0, 0, 0, 0, 0, 0], [0, 0, 0, 0, 0, 0, 0, 0, 0, 0]]\n",
      "2 overflow_to_sample_mapping=[0, 0]\n"
     ]
    }
   ],
   "source": [
    "s1 = [\"question question\"]\n",
    "s2 = [\"one two three four five six\"]\n",
    "for name, tokenizer in tokenizers.items():\n",
    "    print(f\"========\\n{name}\")\n",
    "    x = tokenizer(\n",
    "        s1, \n",
    "        s2, \n",
    "        truncation=\"only_second\",\n",
    "        max_length=10,\n",
    "        padding=\"max_length\",\n",
    "        stride=0,\n",
    "        return_overflowing_tokens=True,\n",
    "        return_token_type_ids=True,\n",
    "        return_special_tokens_mask=True,\n",
    "    )\n",
    "    print(x.keys())\n",
    "    for input_ids in x[\"input_ids\"]:\n",
    "        print(tokenizer.convert_ids_to_tokens(input_ids))\n",
    "    special_tokens_mask = x.pop(\"special_tokens_mask\")\n",
    "    print(f\"special_tokens_mask={repr(special_tokens_mask)}\")\n",
    "    token_type_ids = x.pop(\"token_type_ids\")\n",
    "    print(f\"token_type_ids={repr(token_type_ids)}\")\n",
    "    overflow_to_sample_mapping = x.pop(\"overflow_to_sample_mapping\")\n",
    "    print(f\"{len(overflow_to_sample_mapping)} overflow_to_sample_mapping={repr(overflow_to_sample_mapping)}\")"
   ]
  },
  {
   "cell_type": "markdown",
   "id": "40d00dc5",
   "metadata": {},
   "source": [
    "# Overlapping windows"
   ]
  },
  {
   "cell_type": "code",
   "execution_count": 10,
   "id": "da3ccd5f",
   "metadata": {},
   "outputs": [
    {
     "name": "stdout",
     "output_type": "stream",
     "text": [
      "========\n",
      "wordpiece\n",
      "dict_keys(['input_ids', 'token_type_ids', 'attention_mask', 'special_tokens_mask', 'overflow_to_sample_mapping'])\n",
      "['[CLS]', 'question', 'question', '[SEP]', 'one', 'two', 'three', 'four', 'five', '[SEP]']\n",
      "['[CLS]', 'question', 'question', '[SEP]', 'four', 'five', 'six', 'seven', 'eight', '[SEP]']\n",
      "['[CLS]', 'question', 'question', '[SEP]', 'seven', 'eight', 'nine', '[SEP]', '[PAD]', '[PAD]']\n",
      "special_tokens_mask=[[1, 0, 0, 1, 0, 0, 0, 0, 0, 1], [1, 0, 0, 1, 0, 0, 0, 0, 0, 1], [1, 0, 0, 1, 0, 0, 0, 1, 1, 1]]\n",
      "token_type_ids=[[0, 0, 0, 0, 1, 1, 1, 1, 1, 1], [0, 0, 0, 0, 1, 1, 1, 1, 1, 1], [0, 0, 0, 0, 1, 1, 1, 1, 0, 0]]\n",
      "3 overflow_to_sample_mapping=[0, 0, 0]\n",
      "========\n",
      "sentencepiece\n",
      "dict_keys(['input_ids', 'token_type_ids', 'attention_mask', 'special_tokens_mask', 'overflow_to_sample_mapping'])\n",
      "['<s>', '▁question', '▁question', '</s>', '</s>', '▁one', '▁two', '▁three', '▁four', '</s>']\n",
      "['<s>', '▁question', '▁question', '</s>', '</s>', '▁three', '▁four', '▁five', '▁six', '</s>']\n",
      "['<s>', '▁question', '▁question', '</s>', '</s>', '▁five', '▁six', '▁seven', '▁eight', '</s>']\n",
      "['<s>', '▁question', '▁question', '</s>', '</s>', '▁seven', '▁eight', '▁ni', 'ne', '</s>']\n",
      "special_tokens_mask=[[1, 0, 0, 1, 1, 0, 0, 0, 0, 1], [1, 0, 0, 1, 1, 0, 0, 0, 0, 1], [1, 0, 0, 1, 1, 0, 0, 0, 0, 1], [1, 0, 0, 1, 1, 0, 0, 0, 0, 1]]\n",
      "token_type_ids=[[0, 0, 0, 0, 0, 0, 0, 0, 0, 0], [0, 0, 0, 0, 0, 0, 0, 0, 0, 0], [0, 0, 0, 0, 0, 0, 0, 0, 0, 0], [0, 0, 0, 0, 0, 0, 0, 0, 0, 0]]\n",
      "4 overflow_to_sample_mapping=[0, 0, 0, 0]\n",
      "========\n",
      "byte_pair_encoding\n",
      "dict_keys(['input_ids', 'token_type_ids', 'attention_mask', 'special_tokens_mask', 'overflow_to_sample_mapping'])\n",
      "['<s>', 'question', 'Ġquestion', '</s>', '</s>', 'one', 'Ġtwo', 'Ġthree', 'Ġfour', '</s>']\n",
      "['<s>', 'question', 'Ġquestion', '</s>', '</s>', 'Ġthree', 'Ġfour', 'Ġfive', 'Ġsix', '</s>']\n",
      "['<s>', 'question', 'Ġquestion', '</s>', '</s>', 'Ġfive', 'Ġsix', 'Ġseven', 'Ġeight', '</s>']\n",
      "['<s>', 'question', 'Ġquestion', '</s>', '</s>', 'Ġseven', 'Ġeight', 'Ġnine', '</s>', '<pad>']\n",
      "special_tokens_mask=[[1, 0, 0, 1, 1, 0, 0, 0, 0, 1], [1, 0, 0, 1, 1, 0, 0, 0, 0, 1], [1, 0, 0, 1, 1, 0, 0, 0, 0, 1], [1, 0, 0, 1, 1, 0, 0, 0, 1, 1]]\n",
      "token_type_ids=[[0, 0, 0, 0, 0, 0, 0, 0, 0, 0], [0, 0, 0, 0, 0, 0, 0, 0, 0, 0], [0, 0, 0, 0, 0, 0, 0, 0, 0, 0], [0, 0, 0, 0, 0, 0, 0, 0, 0, 0]]\n",
      "4 overflow_to_sample_mapping=[0, 0, 0, 0]\n"
     ]
    }
   ],
   "source": [
    "s1 = [\"question question\"]\n",
    "s2 = [\"one two three four five six seven eight nine\"]\n",
    "for name, tokenizer in tokenizers.items():\n",
    "    print(f\"========\\n{name}\")\n",
    "    x = tokenizer(\n",
    "        s1, \n",
    "        s2, \n",
    "        truncation=\"only_second\",\n",
    "        max_length=10,\n",
    "        padding=\"max_length\",\n",
    "        stride=2,\n",
    "        return_overflowing_tokens=True,\n",
    "        return_token_type_ids=True,\n",
    "        return_special_tokens_mask=True,\n",
    "    )\n",
    "    print(x.keys())\n",
    "    for input_ids in x[\"input_ids\"]:\n",
    "        print(tokenizer.convert_ids_to_tokens(input_ids))\n",
    "    special_tokens_mask = x.pop(\"special_tokens_mask\")\n",
    "    print(f\"special_tokens_mask={repr(special_tokens_mask)}\")\n",
    "    token_type_ids = x.pop(\"token_type_ids\")\n",
    "    print(f\"token_type_ids={repr(token_type_ids)}\")\n",
    "    overflow_to_sample_mapping = x.pop(\"overflow_to_sample_mapping\")\n",
    "    print(f\"{len(overflow_to_sample_mapping)} overflow_to_sample_mapping={repr(overflow_to_sample_mapping)}\")"
   ]
  },
  {
   "cell_type": "code",
   "execution_count": null,
   "id": "3a761402",
   "metadata": {},
   "outputs": [],
   "source": []
  }
 ],
 "metadata": {
  "kernelspec": {
   "display_name": "Python 3 (ipykernel)",
   "language": "python",
   "name": "python3"
  },
  "language_info": {
   "codemirror_mode": {
    "name": "ipython",
    "version": 3
   },
   "file_extension": ".py",
   "mimetype": "text/x-python",
   "name": "python",
   "nbconvert_exporter": "python",
   "pygments_lexer": "ipython3",
   "version": "3.11.7"
  }
 },
 "nbformat": 4,
 "nbformat_minor": 5
}
