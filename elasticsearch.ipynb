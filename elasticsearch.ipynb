{
 "cells": [
  {
   "cell_type": "code",
   "execution_count": 1,
   "id": "abcf68c8",
   "metadata": {},
   "outputs": [],
   "source": [
    "from datetime import datetime\n",
    "from elasticsearch import Elasticsearch\n",
    "from elasticsearch_dsl import Search, connections, Index, Document, Date, Nested, Boolean, \\\n",
    "    analyzer, InnerDoc, Completion, Keyword, Text"
   ]
  },
  {
   "cell_type": "markdown",
   "id": "90f09258",
   "metadata": {},
   "source": [
    "# Configure connection"
   ]
  },
  {
   "cell_type": "code",
   "execution_count": 2,
   "id": "7f7d84bc",
   "metadata": {},
   "outputs": [
    {
     "data": {
      "text/plain": [
       "<Elasticsearch([{'host': 'localhost'}])>"
      ]
     },
     "execution_count": 2,
     "metadata": {},
     "output_type": "execute_result"
    }
   ],
   "source": [
    "connections.create_connection(alias='myconn', hosts=['localhost'], timeout=60)"
   ]
  },
  {
   "cell_type": "code",
   "execution_count": 3,
   "id": "810586db",
   "metadata": {},
   "outputs": [],
   "source": [
    "s = Search(using='myconn')"
   ]
  },
  {
   "cell_type": "markdown",
   "id": "d1aefd0f",
   "metadata": {},
   "source": [
    "# Drop, create index"
   ]
  },
  {
   "cell_type": "code",
   "execution_count": 4,
   "id": "943c7d2d",
   "metadata": {},
   "outputs": [
    {
     "name": "stderr",
     "output_type": "stream",
     "text": [
      "/Users/ruhong/work/data/query_class/venv/lib/python3.7/site-packages/elasticsearch/connection/base.py:208: ElasticsearchWarning: Elasticsearch built-in security features are not enabled. Without authentication, your cluster could be accessible to anyone. See https://www.elastic.co/guide/en/elasticsearch/reference/7.14/security-minimal-setup.html to enable security.\n",
      "  warnings.warn(message, category=ElasticsearchWarning)\n"
     ]
    },
    {
     "data": {
      "text/plain": [
       "{'acknowledged': True, 'shards_acknowledged': True, 'index': 'blogs'}"
      ]
     },
     "execution_count": 4,
     "metadata": {},
     "output_type": "execute_result"
    }
   ],
   "source": [
    "blogs = Index('blogs')\n",
    "\n",
    "# define custom settings\n",
    "blogs.settings(\n",
    "    number_of_shards=1,\n",
    "    number_of_replicas=0\n",
    ")\n",
    "# define aliases\n",
    "blogs.aliases(\n",
    "    old_blogs={}\n",
    ")\n",
    "\n",
    "# You can attach custom analyzers to the index\n",
    "html_strip = analyzer('html_strip',\n",
    "    tokenizer=\"standard\",\n",
    "    filter=[\"lowercase\", \"stop\", \"snowball\"],\n",
    "    char_filter=[\"html_strip\"]\n",
    ")\n",
    "blogs.analyzer(html_strip)\n",
    "\n",
    "# register a document with the index\n",
    "#blogs.document(Post)\n",
    "\n",
    "# can also be used as class decorator when defining the Document\n",
    "@blogs.document\n",
    "class Post(Document):\n",
    "    title = Text()\n",
    "    title_suggest = Completion()\n",
    "    created_at = Date(default_timezone='UTC')\n",
    "    published = Boolean()\n",
    "    category = Text(\n",
    "        analyzer=html_strip,\n",
    "        fields={'raw': Keyword()}\n",
    "    )\n",
    "    \n",
    "    def save(self, **kwargs):\n",
    "        self.created_at = datetime.now()\n",
    "        return super().save(**kwargs)\n",
    "\n",
    "\n",
    "# delete the index, ignore if it doesn't exist\n",
    "blogs.delete(ignore=404, using=\"myconn\")\n",
    "\n",
    "# create the index in elasticsearch\n",
    "blogs.create(using=\"myconn\")"
   ]
  },
  {
   "cell_type": "code",
   "execution_count": 5,
   "id": "d6950adf",
   "metadata": {},
   "outputs": [
    {
     "name": "stdout",
     "output_type": "stream",
     "text": [
      "id=My First Blog Post, yay!\n",
      "Post(index='blogs', id='My First Blog Post, yay!')\n"
     ]
    }
   ],
   "source": [
    "# instantiate the document\n",
    "first = Post(title='My First Blog Post, yay!', published=True)\n",
    "# assign some field values, can be values or lists of values\n",
    "first.category = ['everything', 'nothing']\n",
    "# every document has an id in meta\n",
    "first.meta.id = first.title\n",
    "print(f\"id={first.meta.id}\")\n",
    "\n",
    "# save the document into the cluster\n",
    "first.save(using=\"myconn\")\n",
    "# retrieve the document\n",
    "p = Post.get(id=first.title, using=\"myconn\")\n",
    "print(repr(p))"
   ]
  },
  {
   "cell_type": "code",
   "execution_count": 6,
   "id": "ceabd7d5",
   "metadata": {},
   "outputs": [],
   "source": [
    "# by calling .search we get back a standard Search object\n",
    "s = Post.search(using=\"myconn\")\n",
    "# the search is already limited to the index and doc_type of our document\n",
    "s = s.filter('term', published=True).query('match', title='first')\n",
    "results = s.execute()\n",
    "# when you execute the search the results are wrapped in your document class (Post)\n",
    "for post in results:\n",
    "    print(f\"score={post.meta.score}, title={post.title}\")"
   ]
  },
  {
   "cell_type": "code",
   "execution_count": 7,
   "id": "6861a661",
   "metadata": {},
   "outputs": [],
   "source": [
    "p.delete(using=\"myconn\")\n",
    "Post.get(id=first.title, using=\"myconn\", ignore=404)  # suppress NotFound exception "
   ]
  },
  {
   "cell_type": "markdown",
   "id": "2020e614",
   "metadata": {},
   "source": [
    "# References\n",
    "\n",
    "- https://elasticsearch-dsl.readthedocs.io/en/latest/configuration.html\n",
    "- https://elasticsearch-dsl.readthedocs.io/en/latest/persistence.html\n",
    "- https://elasticsearch-dsl.readthedocs.io/en/latest/api.html"
   ]
  }
 ],
 "metadata": {
  "kernelspec": {
   "display_name": "Python 3",
   "language": "python",
   "name": "python3"
  },
  "language_info": {
   "codemirror_mode": {
    "name": "ipython",
    "version": 3
   },
   "file_extension": ".py",
   "mimetype": "text/x-python",
   "name": "python",
   "nbconvert_exporter": "python",
   "pygments_lexer": "ipython3",
   "version": "3.7.3"
  }
 },
 "nbformat": 4,
 "nbformat_minor": 5
}
