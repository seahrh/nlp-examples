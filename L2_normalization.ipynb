{
 "cells": [
  {
   "cell_type": "code",
   "execution_count": 1,
   "id": "e78f3eac-acf8-47ff-afe1-cc9e2958d14b",
   "metadata": {},
   "outputs": [],
   "source": [
    "import numpy as np"
   ]
  },
  {
   "cell_type": "code",
   "execution_count": 2,
   "id": "709c4f62-ed62-4623-9ef6-b67e87a77423",
   "metadata": {},
   "outputs": [
    {
     "name": "stdout",
     "output_type": "stream",
     "text": [
      "[-4 -3 -2 -1  0  1  2  3  4]\n"
     ]
    }
   ],
   "source": [
    "a = np.arange(9) - 4\n",
    "print(a)"
   ]
  },
  {
   "cell_type": "code",
   "execution_count": 3,
   "id": "6618e6f2-b903-4ade-93b0-ccc0f3cda89e",
   "metadata": {},
   "outputs": [
    {
     "name": "stdout",
     "output_type": "stream",
     "text": [
      "[-0.51639778 -0.38729833 -0.25819889 -0.12909944  0.          0.12909944\n",
      "  0.25819889  0.38729833  0.51639778]\n"
     ]
    }
   ],
   "source": [
    "# L2 normalization using numpy\n",
    "# see https://stackoverflow.com/a/51512965/519951\n",
    "n1 = a / np.linalg.norm(a)\n",
    "print(n1)"
   ]
  },
  {
   "cell_type": "code",
   "execution_count": 4,
   "id": "767ac85f-0c68-4622-b486-d72a5d812c44",
   "metadata": {},
   "outputs": [
    {
     "name": "stdout",
     "output_type": "stream",
     "text": [
      "[-0.51639778 -0.38729833 -0.25819889 -0.12909944  0.          0.12909944\n",
      "  0.25819889  0.38729833  0.51639778]\n"
     ]
    }
   ],
   "source": [
    "# Repeat L2 normalization\n",
    "n2 = n1 / np.linalg.norm(n1)\n",
    "print(n2)\n",
    "np.testing.assert_almost_equal(n1, n2)"
   ]
  }
 ],
 "metadata": {
  "kernelspec": {
   "display_name": "Python 3 (ipykernel)",
   "language": "python",
   "name": "python3"
  },
  "language_info": {
   "codemirror_mode": {
    "name": "ipython",
    "version": 3
   },
   "file_extension": ".py",
   "mimetype": "text/x-python",
   "name": "python",
   "nbconvert_exporter": "python",
   "pygments_lexer": "ipython3",
   "version": "3.11.7"
  }
 },
 "nbformat": 4,
 "nbformat_minor": 5
}
