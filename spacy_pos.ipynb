{
 "cells": [
  {
   "cell_type": "code",
   "execution_count": 1,
   "id": "5edfd9c9",
   "metadata": {},
   "outputs": [],
   "source": [
    "import spacy"
   ]
  },
  {
   "cell_type": "code",
   "execution_count": 2,
   "id": "bed16f72",
   "metadata": {},
   "outputs": [],
   "source": [
    "pos_tags = ['$', \"''\", ',', '-LRB-', '-RRB-', '.', ':', 'ADD', 'AFX', 'CC', 'CD', 'DT', 'EX', 'FW', 'HYPH', 'IN', 'JJ', 'JJR', 'JJS', 'LS', 'MD', 'NFP', 'NN', 'NNP', 'NNPS', 'NNS', 'PDT', 'POS', 'PRP', 'PRP$', 'RB', 'RBR', 'RBS', 'RP', 'SYM', 'TO', 'UH', 'VB', 'VBD', 'VBG', 'VBN', 'VBP', 'VBZ', 'WDT', 'WP', 'WP$', 'WRB', 'XX', '``']"
   ]
  },
  {
   "cell_type": "code",
   "execution_count": 3,
   "id": "10b8b705",
   "metadata": {},
   "outputs": [
    {
     "name": "stdout",
     "output_type": "stream",
     "text": [
      "$\t\tsymbol, currency\n",
      "''\t\tclosing quotation mark\n",
      ",\t\tpunctuation mark, comma\n",
      "-LRB-\t\tleft round bracket\n",
      "-RRB-\t\tright round bracket\n",
      ".\t\tpunctuation mark, sentence closer\n",
      ":\t\tpunctuation mark, colon or ellipsis\n",
      "ADD\t\temail\n",
      "AFX\t\taffix\n",
      "CC\t\tconjunction, coordinating\n",
      "CD\t\tcardinal number\n",
      "DT\t\tdeterminer\n",
      "EX\t\texistential there\n",
      "FW\t\tforeign word\n",
      "HYPH\t\tpunctuation mark, hyphen\n",
      "IN\t\tconjunction, subordinating or preposition\n",
      "JJ\t\tadjective (English), other noun-modifier (Chinese)\n",
      "JJR\t\tadjective, comparative\n",
      "JJS\t\tadjective, superlative\n",
      "LS\t\tlist item marker\n",
      "MD\t\tverb, modal auxiliary\n",
      "NFP\t\tsuperfluous punctuation\n",
      "NN\t\tnoun, singular or mass\n",
      "NNP\t\tnoun, proper singular\n",
      "NNPS\t\tnoun, proper plural\n",
      "NNS\t\tnoun, plural\n",
      "PDT\t\tpredeterminer\n",
      "POS\t\tpossessive ending\n",
      "PRP\t\tpronoun, personal\n",
      "PRP$\t\tpronoun, possessive\n",
      "RB\t\tadverb\n",
      "RBR\t\tadverb, comparative\n",
      "RBS\t\tadverb, superlative\n",
      "RP\t\tadverb, particle\n",
      "SYM\t\tsymbol\n",
      "TO\t\tinfinitival \"to\"\n",
      "UH\t\tinterjection\n",
      "VB\t\tverb, base form\n",
      "VBD\t\tverb, past tense\n",
      "VBG\t\tverb, gerund or present participle\n",
      "VBN\t\tverb, past participle\n",
      "VBP\t\tverb, non-3rd person singular present\n",
      "VBZ\t\tverb, 3rd person singular present\n",
      "WDT\t\twh-determiner\n",
      "WP\t\twh-pronoun, personal\n",
      "WP$\t\twh-pronoun, possessive\n",
      "WRB\t\twh-adverb\n",
      "XX\t\tunknown\n",
      "``\t\topening quotation mark\n"
     ]
    }
   ],
   "source": [
    "for pt in pos_tags:\n",
    "    print(f\"{pt}\\t\\t{spacy.explain(pt)}\")"
   ]
  }
 ],
 "metadata": {
  "kernelspec": {
   "display_name": "Python 3 (ipykernel)",
   "language": "python",
   "name": "python3"
  },
  "language_info": {
   "codemirror_mode": {
    "name": "ipython",
    "version": 3
   },
   "file_extension": ".py",
   "mimetype": "text/x-python",
   "name": "python",
   "nbconvert_exporter": "python",
   "pygments_lexer": "ipython3",
   "version": "3.7.5"
  }
 },
 "nbformat": 4,
 "nbformat_minor": 5
}
